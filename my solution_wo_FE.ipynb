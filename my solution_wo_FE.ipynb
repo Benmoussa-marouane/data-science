{
  "nbformat": 4,
  "nbformat_minor": 0,
  "metadata": {
    "kernelspec": {
      "display_name": "Python 3",
      "language": "python",
      "name": "python3"
    },
    "language_info": {
      "codemirror_mode": {
        "name": "ipython",
        "version": 3
      },
      "file_extension": ".py",
      "mimetype": "text/x-python",
      "name": "python",
      "nbconvert_exporter": "python",
      "pygments_lexer": "ipython3",
      "version": "3.6.5"
    },
    "colab": {
      "name": "Pipeline and ColumnTransformer.ipynb",
      "version": "0.3.2",
      "provenance": [],
      "collapsed_sections": [],
      "machine_shape": "hm"
    }
  },
  "cells": [
    {
      "cell_type": "markdown",
      "metadata": {
        "id": "d3kI8wVwsimg",
        "colab_type": "text"
      },
      "source": [
        "# Pipeline and ColumnTransformer"
      ]
    },
    {
      "cell_type": "code",
      "metadata": {
        "id": "LLIP5vCssimh",
        "colab_type": "code",
        "outputId": "ca0d0303-47fd-428d-8b92-3e0922bee252",
        "colab": {
          "base_uri": "https://localhost:8080/",
          "height": 421
        }
      },
      "source": [
        "# Obviously\n",
        "import pandas as pd\n",
        "\n",
        "# Some sklearn tools for preprocessing and building a pipeline. \n",
        "# ColumnTransformer was introduced in 0.20 so make sure you have this version\n",
        "# !pip install xgboost\n",
        "import numpy as np \n",
        "\n",
        "# To build our pipeline\n",
        "from sklearn.preprocessing import OneHotEncoder\n",
        "from sklearn.compose import ColumnTransformer\n",
        "from sklearn.pipeline import Pipeline\n",
        "\n",
        "!pip install impyute\n",
        "from impyute.imputation.cs import mice\n",
        "\n",
        "from sklearn.compose import ColumnTransformer\n",
        "from sklearn.pipeline import Pipeline\n",
        "from sklearn.impute import SimpleImputer\n",
        "from sklearn.preprocessing import StandardScaler, OneHotEncoder\n",
        "from sklearn.linear_model import LogisticRegression\n",
        "from sklearn.model_selection import train_test_split, GridSearchCV\n",
        "\n",
        "# Other helpers\n",
        "from sklearn.metrics import accuracy_score, classification_report\n",
        "\n",
        "\n",
        "!pip install category_encoders\n",
        "\n",
        "from category_encoders.target_encoder import TargetEncoder"
      ],
      "execution_count": 1,
      "outputs": [
        {
          "output_type": "stream",
          "text": [
            "Collecting impyute\n",
            "  Downloading https://files.pythonhosted.org/packages/37/28/86829f67c9affb847facaab94687761d3555539ec675f7577778c5b2680a/impyute-0.0.8-py2.py3-none-any.whl\n",
            "Requirement already satisfied: scikit-learn in /usr/local/lib/python3.6/dist-packages (from impyute) (0.21.3)\n",
            "Requirement already satisfied: scipy in /usr/local/lib/python3.6/dist-packages (from impyute) (1.3.1)\n",
            "Requirement already satisfied: numpy in /usr/local/lib/python3.6/dist-packages (from impyute) (1.16.4)\n",
            "Requirement already satisfied: joblib>=0.11 in /usr/local/lib/python3.6/dist-packages (from scikit-learn->impyute) (0.13.2)\n",
            "Installing collected packages: impyute\n",
            "Successfully installed impyute-0.0.8\n",
            "Collecting category_encoders\n",
            "\u001b[?25l  Downloading https://files.pythonhosted.org/packages/6e/a1/f7a22f144f33be78afeb06bfa78478e8284a64263a3c09b1ef54e673841e/category_encoders-2.0.0-py2.py3-none-any.whl (87kB)\n",
            "\u001b[K     |████████████████████████████████| 92kB 3.3MB/s \n",
            "\u001b[?25hRequirement already satisfied: statsmodels>=0.6.1 in /usr/local/lib/python3.6/dist-packages (from category_encoders) (0.10.1)\n",
            "Requirement already satisfied: scikit-learn>=0.20.0 in /usr/local/lib/python3.6/dist-packages (from category_encoders) (0.21.3)\n",
            "Requirement already satisfied: scipy>=0.19.0 in /usr/local/lib/python3.6/dist-packages (from category_encoders) (1.3.1)\n",
            "Requirement already satisfied: pandas>=0.21.1 in /usr/local/lib/python3.6/dist-packages (from category_encoders) (0.24.2)\n",
            "Requirement already satisfied: patsy>=0.4.1 in /usr/local/lib/python3.6/dist-packages (from category_encoders) (0.5.1)\n",
            "Requirement already satisfied: numpy>=1.11.3 in /usr/local/lib/python3.6/dist-packages (from category_encoders) (1.16.4)\n",
            "Requirement already satisfied: joblib>=0.11 in /usr/local/lib/python3.6/dist-packages (from scikit-learn>=0.20.0->category_encoders) (0.13.2)\n",
            "Requirement already satisfied: python-dateutil>=2.5.0 in /usr/local/lib/python3.6/dist-packages (from pandas>=0.21.1->category_encoders) (2.5.3)\n",
            "Requirement already satisfied: pytz>=2011k in /usr/local/lib/python3.6/dist-packages (from pandas>=0.21.1->category_encoders) (2018.9)\n",
            "Requirement already satisfied: six in /usr/local/lib/python3.6/dist-packages (from patsy>=0.4.1->category_encoders) (1.12.0)\n",
            "Installing collected packages: category-encoders\n",
            "Successfully installed category-encoders-2.0.0\n"
          ],
          "name": "stdout"
        }
      ]
    },
    {
      "cell_type": "code",
      "metadata": {
        "id": "jPvxJSOX3aJx",
        "colab_type": "code",
        "outputId": "57e2d5e2-cda5-42b4-c6fc-13920902d5c0",
        "colab": {
          "base_uri": "https://localhost:8080/",
          "height": 518
        }
      },
      "source": [
        "!pip install lightgbm\n",
        "\n",
        "from lightgbm import LGBMClassifier\n",
        "\n",
        "!pip install catboost\n",
        "\n",
        "from catboost import CatBoostClassifier"
      ],
      "execution_count": 71,
      "outputs": [
        {
          "output_type": "stream",
          "text": [
            "Requirement already satisfied: lightgbm in /usr/local/lib/python3.6/dist-packages (2.2.3)\n",
            "Requirement already satisfied: scipy in /usr/local/lib/python3.6/dist-packages (from lightgbm) (1.3.1)\n",
            "Requirement already satisfied: numpy in /usr/local/lib/python3.6/dist-packages (from lightgbm) (1.16.4)\n",
            "Requirement already satisfied: scikit-learn in /usr/local/lib/python3.6/dist-packages (from lightgbm) (0.21.3)\n",
            "Requirement already satisfied: joblib>=0.11 in /usr/local/lib/python3.6/dist-packages (from scikit-learn->lightgbm) (0.13.2)\n",
            "Requirement already satisfied: catboost in /usr/local/lib/python3.6/dist-packages (0.16.5)\n",
            "Requirement already satisfied: plotly in /usr/local/lib/python3.6/dist-packages (from catboost) (3.6.1)\n",
            "Requirement already satisfied: numpy>=1.16.0 in /usr/local/lib/python3.6/dist-packages (from catboost) (1.16.4)\n",
            "Requirement already satisfied: six in /usr/local/lib/python3.6/dist-packages (from catboost) (1.12.0)\n",
            "Requirement already satisfied: pandas>=0.19.1 in /usr/local/lib/python3.6/dist-packages (from catboost) (0.24.2)\n",
            "Requirement already satisfied: matplotlib in /usr/local/lib/python3.6/dist-packages (from catboost) (3.0.3)\n",
            "Requirement already satisfied: graphviz in /usr/local/lib/python3.6/dist-packages (from catboost) (0.10.1)\n",
            "Requirement already satisfied: decorator>=4.0.6 in /usr/local/lib/python3.6/dist-packages (from plotly->catboost) (4.4.0)\n",
            "Requirement already satisfied: pytz in /usr/local/lib/python3.6/dist-packages (from plotly->catboost) (2018.9)\n",
            "Requirement already satisfied: retrying>=1.3.3 in /usr/local/lib/python3.6/dist-packages (from plotly->catboost) (1.3.3)\n",
            "Requirement already satisfied: nbformat>=4.2 in /usr/local/lib/python3.6/dist-packages (from plotly->catboost) (4.4.0)\n",
            "Requirement already satisfied: requests in /usr/local/lib/python3.6/dist-packages (from plotly->catboost) (2.21.0)\n",
            "Requirement already satisfied: python-dateutil>=2.5.0 in /usr/local/lib/python3.6/dist-packages (from pandas>=0.19.1->catboost) (2.5.3)\n",
            "Requirement already satisfied: kiwisolver>=1.0.1 in /usr/local/lib/python3.6/dist-packages (from matplotlib->catboost) (1.1.0)\n",
            "Requirement already satisfied: pyparsing!=2.0.4,!=2.1.2,!=2.1.6,>=2.0.1 in /usr/local/lib/python3.6/dist-packages (from matplotlib->catboost) (2.4.2)\n",
            "Requirement already satisfied: cycler>=0.10 in /usr/local/lib/python3.6/dist-packages (from matplotlib->catboost) (0.10.0)\n",
            "Requirement already satisfied: ipython-genutils in /usr/local/lib/python3.6/dist-packages (from nbformat>=4.2->plotly->catboost) (0.2.0)\n",
            "Requirement already satisfied: traitlets>=4.1 in /usr/local/lib/python3.6/dist-packages (from nbformat>=4.2->plotly->catboost) (4.3.2)\n",
            "Requirement already satisfied: jsonschema!=2.5.0,>=2.4 in /usr/local/lib/python3.6/dist-packages (from nbformat>=4.2->plotly->catboost) (2.6.0)\n",
            "Requirement already satisfied: jupyter-core in /usr/local/lib/python3.6/dist-packages (from nbformat>=4.2->plotly->catboost) (4.5.0)\n",
            "Requirement already satisfied: chardet<3.1.0,>=3.0.2 in /usr/local/lib/python3.6/dist-packages (from requests->plotly->catboost) (3.0.4)\n",
            "Requirement already satisfied: certifi>=2017.4.17 in /usr/local/lib/python3.6/dist-packages (from requests->plotly->catboost) (2019.6.16)\n",
            "Requirement already satisfied: urllib3<1.25,>=1.21.1 in /usr/local/lib/python3.6/dist-packages (from requests->plotly->catboost) (1.24.3)\n",
            "Requirement already satisfied: idna<2.9,>=2.5 in /usr/local/lib/python3.6/dist-packages (from requests->plotly->catboost) (2.8)\n",
            "Requirement already satisfied: setuptools in /usr/local/lib/python3.6/dist-packages (from kiwisolver>=1.0.1->matplotlib->catboost) (41.2.0)\n"
          ],
          "name": "stdout"
        }
      ]
    },
    {
      "cell_type": "code",
      "metadata": {
        "id": "2mqs38Y0soUI",
        "colab_type": "code",
        "outputId": "b5fd9f4e-c4f2-4d2e-bba6-44f23f2f3ae4",
        "colab": {
          "base_uri": "https://localhost:8080/",
          "height": 120
        }
      },
      "source": [
        "from google.colab import drive\n",
        "drive.mount('/content/drive')\n",
        "\n",
        "import sys\n",
        "sys.path.append('/content/drive/My Drive/Colab Notebooks/Data scientist')"
      ],
      "execution_count": 3,
      "outputs": [
        {
          "output_type": "stream",
          "text": [
            "Go to this URL in a browser: https://accounts.google.com/o/oauth2/auth?client_id=947318989803-6bn6qk8qdgf4n4g3pfee6491hc0brc4i.apps.googleusercontent.com&redirect_uri=urn%3Aietf%3Awg%3Aoauth%3A2.0%3Aoob&scope=email%20https%3A%2F%2Fwww.googleapis.com%2Fauth%2Fdocs.test%20https%3A%2F%2Fwww.googleapis.com%2Fauth%2Fdrive%20https%3A%2F%2Fwww.googleapis.com%2Fauth%2Fdrive.photos.readonly%20https%3A%2F%2Fwww.googleapis.com%2Fauth%2Fpeopleapi.readonly&response_type=code\n",
            "\n",
            "Enter your authorization code:\n",
            "··········\n",
            "Mounted at /content/drive\n"
          ],
          "name": "stdout"
        }
      ]
    },
    {
      "cell_type": "markdown",
      "metadata": {
        "id": "Q-VLycIEsimk",
        "colab_type": "text"
      },
      "source": [
        "### The Dataset"
      ]
    },
    {
      "cell_type": "markdown",
      "metadata": {
        "id": "Z4Ab5bagsiml",
        "colab_type": "text"
      },
      "source": [
        "The dataset can be downloaded [here](https://archive.ics.uci.edu/ml/datasets/bank+marketing). It consists of data from marketing campaigns of a Portuguese bank. We will try to build classifiers that can predict whether or not the client targeted by the campaign ended up subscribing to a term deposit (column `y`)."
      ]
    },
    {
      "cell_type": "code",
      "metadata": {
        "id": "dDc2Zjz8simm",
        "colab_type": "code",
        "outputId": "67a1b305-210f-4b20-9114-bbe047bc4a91",
        "colab": {
          "base_uri": "https://localhost:8080/",
          "height": 84
        }
      },
      "source": [
        "communes_df=pd.read_pickle('/content/drive/My Drive/Colab Notebooks/Data scientist/data/commune_scoring.pkl')\n",
        "# Separation Variables d'intérêts et variables explicatives\n",
        "print(communes_df.camping.value_counts())\n",
        "print(communes_df.shape)"
      ],
      "execution_count": 4,
      "outputs": [
        {
          "output_type": "stream",
          "text": [
            "0    31610\n",
            "1     5067\n",
            "Name: camping, dtype: int64\n",
            "(36677, 96)\n"
          ],
          "name": "stdout"
        }
      ]
    },
    {
      "cell_type": "markdown",
      "metadata": {
        "id": "KBYnsloFwAP3",
        "colab_type": "text"
      },
      "source": [
        " keep in mind data in unbalanced we need to pick carefully good evaluation metric, maybe even oversampling..\n"
      ]
    },
    {
      "cell_type": "code",
      "metadata": {
        "id": "-E6ttuA2simq",
        "colab_type": "code",
        "outputId": "68308c60-3fd5-4a82-d3bd-95ad440f2826",
        "colab": {
          "base_uri": "https://localhost:8080/",
          "height": 33
        }
      },
      "source": [
        "dff = communes_df.select_dtypes(exclude=[\"number\",\"bool\"])\n",
        "df_categorical = dff.assign(score_equipement_de_sante_bv=communes_df['score_equipement_de_sante_bv'])\n",
        "df_categorical = df_categorical.fillna(df_categorical.mode().iloc[0]) # impute missing data using Mode or most frequent For categorical data \n",
        "# df_categorical = df_categorical.str.strip()\n",
        "\n",
        "string_features = ['orientation_economique','seg_croissance_pop','libgeo','urbanite_ruralite','dynamique_demographique_bv',\n",
        "                   'seg_environnement_demographique_obsolete','environnement_demographique'\n",
        "                  ,'syn_medical','seg_cap_fiscale','seg_dyn_entre','dyn_setc']\n",
        "\n",
        "# for fe in string_features:\n",
        "#     df_categorical[fe] = df_categorical[fe].map(lambda x: \"\".join(w.strip() for w in x))\n",
        "\n",
        "\n",
        "\n",
        "##############################\n",
        "\n",
        "numerics = ['int16', 'int32', 'int64', 'float16', 'float32', 'float64']\n",
        "X_incomplete = communes_df.select_dtypes(include=numerics).astype(float)\n",
        "df_numeric = X_incomplete[X_incomplete.columns.difference(['score_equipement_de_sante_bv'])]### score_equipment_de_sante  is categorical\n",
        "\n",
        "print(len(X_incomplete))"
      ],
      "execution_count": 5,
      "outputs": [
        {
          "output_type": "stream",
          "text": [
            "36677\n"
          ],
          "name": "stdout"
        }
      ]
    },
    {
      "cell_type": "code",
      "metadata": {
        "id": "yWkO5Ww2kCYl",
        "colab_type": "code",
        "outputId": "b3f6163f-c6b8-4015-8497-91b106a8d7a1",
        "colab": {
          "base_uri": "https://localhost:8080/",
          "height": 484
        }
      },
      "source": [
        "df_categorical.head()"
      ],
      "execution_count": 6,
      "outputs": [
        {
          "output_type": "execute_result",
          "data": {
            "text/html": [
              "<div>\n",
              "<style scoped>\n",
              "    .dataframe tbody tr th:only-of-type {\n",
              "        vertical-align: middle;\n",
              "    }\n",
              "\n",
              "    .dataframe tbody tr th {\n",
              "        vertical-align: top;\n",
              "    }\n",
              "\n",
              "    .dataframe thead th {\n",
              "        text-align: right;\n",
              "    }\n",
              "</style>\n",
              "<table border=\"1\" class=\"dataframe\">\n",
              "  <thead>\n",
              "    <tr style=\"text-align: right;\">\n",
              "      <th></th>\n",
              "      <th>codgeo</th>\n",
              "      <th>orientation_economique</th>\n",
              "      <th>seg_croissance_pop</th>\n",
              "      <th>libgeo</th>\n",
              "      <th>dep</th>\n",
              "      <th>urbanite_ruralite</th>\n",
              "      <th>dynamique_demographique_bv</th>\n",
              "      <th>seg_environnement_demographique_obsolete</th>\n",
              "      <th>environnement_demographique</th>\n",
              "      <th>syn_medical</th>\n",
              "      <th>seg_cap_fiscale</th>\n",
              "      <th>seg_dyn_entre</th>\n",
              "      <th>dyn_setc</th>\n",
              "      <th>cp</th>\n",
              "      <th>score_equipement_de_sante_bv</th>\n",
              "    </tr>\n",
              "  </thead>\n",
              "  <tbody>\n",
              "    <tr>\n",
              "      <th>0</th>\n",
              "      <td>01001</td>\n",
              "      <td>Bassin Industriel</td>\n",
              "      <td>en croissance démographique</td>\n",
              "      <td>L' Abergement-Clémenciat</td>\n",
              "      <td>01</td>\n",
              "      <td>Com rurale &lt; 2 000 m habts</td>\n",
              "      <td>1.Accroissement par excédent naturel et migrat...</td>\n",
              "      <td>Zone rurale en croissance démographique</td>\n",
              "      <td>Bassin Industriel en croissance démographique</td>\n",
              "      <td>Synergie Médicale</td>\n",
              "      <td>Fiscalité moyenne</td>\n",
              "      <td>Faible dynamique</td>\n",
              "      <td>Faible Dynamique Serv et Com</td>\n",
              "      <td>01</td>\n",
              "      <td>4</td>\n",
              "    </tr>\n",
              "    <tr>\n",
              "      <th>1</th>\n",
              "      <td>01002</td>\n",
              "      <td>Bassin Résidentiel</td>\n",
              "      <td>en croissance démographique</td>\n",
              "      <td>L' Abergement-de-Varey</td>\n",
              "      <td>01</td>\n",
              "      <td>Com rurale &lt; 2 000 m habts</td>\n",
              "      <td>1.Accroissement par excédent naturel et migrat...</td>\n",
              "      <td>Zone rurale en croissance démographique</td>\n",
              "      <td>Bassin Résidentiel en croissance démographique</td>\n",
              "      <td>Forte Synergie Médicale</td>\n",
              "      <td>Fiscalité moyenne</td>\n",
              "      <td>Faible dynamique</td>\n",
              "      <td>Faible Dynamique Serv et Com</td>\n",
              "      <td>01</td>\n",
              "      <td>4</td>\n",
              "    </tr>\n",
              "    <tr>\n",
              "      <th>2</th>\n",
              "      <td>01004</td>\n",
              "      <td>Bassin Résidentiel</td>\n",
              "      <td>en croissance démographique</td>\n",
              "      <td>Ambérieu-en-Bugey</td>\n",
              "      <td>01</td>\n",
              "      <td>Com &lt; 50 m habts</td>\n",
              "      <td>1.Accroissement par excédent naturel et migrat...</td>\n",
              "      <td>Zone rurale en croissance démographique</td>\n",
              "      <td>Bassin Résidentiel en croissance démographique</td>\n",
              "      <td>Forte Synergie Médicale</td>\n",
              "      <td>Fiscalité moyenne</td>\n",
              "      <td>Dynamique Economique</td>\n",
              "      <td>Bonne Dynamique Entreprise Serv et Com</td>\n",
              "      <td>01</td>\n",
              "      <td>4</td>\n",
              "    </tr>\n",
              "    <tr>\n",
              "      <th>3</th>\n",
              "      <td>01005</td>\n",
              "      <td>Bassin Urbain</td>\n",
              "      <td>en croissance démographique</td>\n",
              "      <td>Ambérieux-en-Dombes</td>\n",
              "      <td>01</td>\n",
              "      <td>Com rurale &lt; 2 000 m habts</td>\n",
              "      <td>Grande Ville</td>\n",
              "      <td>Com rurale &lt; 2 000 m habts en croissance démog...</td>\n",
              "      <td>Bassin Urbain en croissance démographique</td>\n",
              "      <td>Forte Synergie Médicale</td>\n",
              "      <td>Fiscalité moyenne</td>\n",
              "      <td>Moyenne dynamique</td>\n",
              "      <td>Faible Dynamique Serv et Com</td>\n",
              "      <td>01</td>\n",
              "      <td>1</td>\n",
              "    </tr>\n",
              "    <tr>\n",
              "      <th>4</th>\n",
              "      <td>01006</td>\n",
              "      <td>Bassin Résidentiel</td>\n",
              "      <td>en croissance démographique</td>\n",
              "      <td>Ambléon</td>\n",
              "      <td>01</td>\n",
              "      <td>Com rurale &lt; 2 000 m habts</td>\n",
              "      <td>3.Accroissement par excédent migratoire</td>\n",
              "      <td>Zone rurale en croissance démographique</td>\n",
              "      <td>Bassin Résidentiel en croissance démographique</td>\n",
              "      <td>Forte Synergie Médicale</td>\n",
              "      <td>Fiscalité moyenne</td>\n",
              "      <td>Faible dynamique</td>\n",
              "      <td>Faible Dynamique Serv et Com</td>\n",
              "      <td>01</td>\n",
              "      <td>3</td>\n",
              "    </tr>\n",
              "  </tbody>\n",
              "</table>\n",
              "</div>"
            ],
            "text/plain": [
              "  codgeo orientation_economique  ...  cp score_equipement_de_sante_bv\n",
              "0  01001      Bassin Industriel  ...  01                            4\n",
              "1  01002     Bassin Résidentiel  ...  01                            4\n",
              "2  01004     Bassin Résidentiel  ...  01                            4\n",
              "3  01005          Bassin Urbain  ...  01                            1\n",
              "4  01006     Bassin Résidentiel  ...  01                            3\n",
              "\n",
              "[5 rows x 15 columns]"
            ]
          },
          "metadata": {
            "tags": []
          },
          "execution_count": 6
        }
      ]
    },
    {
      "cell_type": "code",
      "metadata": {
        "id": "OjjFFQUasimu",
        "colab_type": "code",
        "colab": {}
      },
      "source": [
        "for f in df_numeric.columns:\n",
        "  X_incomplete[f].fillna((X_incomplete[f].mean()), inplace=True)"
      ],
      "execution_count": 0,
      "outputs": []
    },
    {
      "cell_type": "code",
      "metadata": {
        "id": "Xo1OJ_sF7afA",
        "colab_type": "code",
        "colab": {}
      },
      "source": [
        "# Source: https://maxhalford.github.io/blog/target-encoding-done-the-right-way/\n",
        "def calc_smooth_mean(df1, df2, cat_name, target, weight):\n",
        "    # Compute the global mean\n",
        "    mean = communes_df[target].mean()\n",
        "\n",
        "    # Compute the number of values and the mean of each group\n",
        "    agg = communes_df.groupby(cat_name)[target].agg(['count', 'mean'])\n",
        "    counts = agg['count']\n",
        "    means = agg['mean']\n",
        "\n",
        "    # Compute the \"smoothed\" means\n",
        "    smooth = (counts * means + weight * mean) / (counts + weight)\n",
        "\n",
        "    # Replace each value by the according smoothed mean\n",
        "    if df2 is None:\n",
        "        return df1[cat_name].map(smooth)\n",
        "    else:\n",
        "        return df1[cat_name].map(smooth)"
      ],
      "execution_count": 0,
      "outputs": []
    },
    {
      "cell_type": "markdown",
      "metadata": {
        "id": "XFPwDJUIBLgV",
        "colab_type": "text"
      },
      "source": [
        "Feature 'codgeo' has 36677 unique categories note good idea to use target encoding\n",
        "\n",
        "Feature 'libgeo' has 34125 unique categories\n",
        "\n",
        "Feature 'dep' has 100 unique categories\n",
        "\n",
        "Feature 'cp' has 100 unique categories"
      ]
    },
    {
      "cell_type": "code",
      "metadata": {
        "id": "fFVAeLDA7ntw",
        "colab_type": "code",
        "colab": {}
      },
      "source": [
        "WEIGHT = 300\n",
        "df_categorical['codgeo'] = calc_smooth_mean(df1=communes_df, df2=None, cat_name='codgeo', target='camping', weight=WEIGHT).astype('category')\n",
        "df_categorical['libgeo'] = calc_smooth_mean(df1=communes_df, df2=None, cat_name='libgeo', target='camping', weight=WEIGHT).astype('category')\n",
        "df_categorical['dep'] = calc_smooth_mean(df1=communes_df, df2=None, cat_name='dep', target='camping', weight=WEIGHT).astype('category')\n",
        "df_categorical['cp'] = calc_smooth_mean(df1=communes_df, df2=None, cat_name='cp', target='camping', weight=WEIGHT).astype('category')"
      ],
      "execution_count": 0,
      "outputs": []
    },
    {
      "cell_type": "code",
      "metadata": {
        "id": "m1DNNQ9qY3Ej",
        "colab_type": "code",
        "outputId": "cd225b4e-8476-489b-9146-a61826f1bd60",
        "colab": {
          "base_uri": "https://localhost:8080/",
          "height": 150
        }
      },
      "source": [
        "df_categorical['cp'].head()"
      ],
      "execution_count": 10,
      "outputs": [
        {
          "output_type": "execute_result",
          "data": {
            "text/plain": [
              "0    0.143874\n",
              "1    0.143874\n",
              "2    0.143874\n",
              "3    0.143874\n",
              "4    0.143874\n",
              "Name: cp, dtype: category\n",
              "Categories (99, float64): [0.063123, 0.064257, 0.064900, 0.067950, ..., 0.254847, 0.262826, 0.282068,\n",
              "                           0.282387]"
            ]
          },
          "metadata": {
            "tags": []
          },
          "execution_count": 10
        }
      ]
    },
    {
      "cell_type": "code",
      "metadata": {
        "id": "zFveHBLKQ8AD",
        "colab_type": "code",
        "colab": {
          "base_uri": "https://localhost:8080/",
          "height": 268
        },
        "outputId": "009be320-5751-417e-81cf-6b884e43f049"
      },
      "source": [
        "# Decide which categorical variables you want to use in model\n",
        "for col_name in df_categorical.columns:\n",
        "#     if df_numeric[col_name].dtypes == 'object':\n",
        "      unique_cat = len(df_categorical[col_name].unique())\n",
        "      print(\"Feature '{col_name}' has {unique_cat} unique categories\".format(col_name=col_name, unique_cat=unique_cat))"
      ],
      "execution_count": 11,
      "outputs": [
        {
          "output_type": "stream",
          "text": [
            "Feature 'codgeo' has 2 unique categories\n",
            "Feature 'orientation_economique' has 5 unique categories\n",
            "Feature 'seg_croissance_pop' has 2 unique categories\n",
            "Feature 'libgeo' has 35 unique categories\n",
            "Feature 'dep' has 99 unique categories\n",
            "Feature 'urbanite_ruralite' has 6 unique categories\n",
            "Feature 'dynamique_demographique_bv' has 7 unique categories\n",
            "Feature 'seg_environnement_demographique_obsolete' has 8 unique categories\n",
            "Feature 'environnement_demographique' has 7 unique categories\n",
            "Feature 'syn_medical' has 3 unique categories\n",
            "Feature 'seg_cap_fiscale' has 3 unique categories\n",
            "Feature 'seg_dyn_entre' has 3 unique categories\n",
            "Feature 'dyn_setc' has 3 unique categories\n",
            "Feature 'cp' has 99 unique categories\n",
            "Feature 'score_equipement_de_sante_bv' has 5 unique categories\n"
          ],
          "name": "stdout"
        }
      ]
    },
    {
      "cell_type": "code",
      "metadata": {
        "id": "S0AWLp2YRP8H",
        "colab_type": "code",
        "colab": {
          "base_uri": "https://localhost:8080/",
          "height": 134
        },
        "outputId": "56653acd-9183-4245-b49f-3ab46dfe2898"
      },
      "source": [
        "df_categorical['urbanite_ruralite'].value_counts()"
      ],
      "execution_count": 12,
      "outputs": [
        {
          "output_type": "execute_result",
          "data": {
            "text/plain": [
              "Com rurale < 2 000 m habts    30052\n",
              "Com < 10 m habts               2505\n",
              "Com > 200 m habts              1369\n",
              "Com < 50 m habts               1325\n",
              "Com < 200 m habts               836\n",
              "Com rurale > 2 000 habts        590\n",
              "Name: urbanite_ruralite, dtype: int64"
            ]
          },
          "metadata": {
            "tags": []
          },
          "execution_count": 12
        }
      ]
    },
    {
      "cell_type": "code",
      "metadata": {
        "id": "NWnkoMuGR0Ld",
        "colab_type": "code",
        "colab": {
          "base_uri": "https://localhost:8080/",
          "height": 67
        },
        "outputId": "da46f9f4-90e8-4e87-b7fd-59a41cf42a1f"
      },
      "source": [
        "# In this case, bucket low frequecy categories as \"Other\"\n",
        "df_categorical['urbanite_ruralite'] = ['Com rurale < 2 000 m habts ' if x == 'Com rurale < 2 000 m habts' else 'Other' for x in df_categorical['urbanite_ruralite']]\n",
        "\n",
        "rint(df_categorical['urbanite_ruralite'].value_counts().sort_values(ascending=False))"
      ],
      "execution_count": 13,
      "outputs": [
        {
          "output_type": "stream",
          "text": [
            "Com rurale < 2 000 m habts     30052\n",
            "Other                           6625\n",
            "Name: urbanite_ruralite, dtype: int64\n"
          ],
          "name": "stdout"
        }
      ]
    },
    {
      "cell_type": "code",
      "metadata": {
        "id": "4ijlA9r2TwBG",
        "colab_type": "code",
        "colab": {
          "base_uri": "https://localhost:8080/",
          "height": 84
        },
        "outputId": "55001d10-140e-44d3-cf35-c6ccf9e3afa6"
      },
      "source": [
        "df_categorical['seg_cap_fiscale'].value_counts() "
      ],
      "execution_count": 14,
      "outputs": [
        {
          "output_type": "execute_result",
          "data": {
            "text/plain": [
              "Fiscalité moyenne    28780\n",
              "Fiscalité faible      6628\n",
              "Fiscalité élevée      1269\n",
              "Name: seg_cap_fiscale, dtype: int64"
            ]
          },
          "metadata": {
            "tags": []
          },
          "execution_count": 14
        }
      ]
    },
    {
      "cell_type": "code",
      "metadata": {
        "id": "yhHrTuDwTaRC",
        "colab_type": "code",
        "colab": {
          "base_uri": "https://localhost:8080/",
          "height": 67
        },
        "outputId": "659c862f-4a39-4792-b659-98810f99facd"
      },
      "source": [
        "# In this case, bucket low frequecy categories as \"Other\"\n",
        "df_categorical['seg_cap_fiscale'] = ['Fiscalité moyenne' if x == 'Fiscalité moyenne' else 'Other' for x in df_categorical['seg_cap_fiscale']]\n",
        "\n",
        "print(df_categorical['seg_cap_fiscale'].value_counts().sort_values(ascending=False))"
      ],
      "execution_count": 15,
      "outputs": [
        {
          "output_type": "stream",
          "text": [
            "Fiscalité moyenne    28780\n",
            "Other                 7897\n",
            "Name: seg_cap_fiscale, dtype: int64\n"
          ],
          "name": "stdout"
        }
      ]
    },
    {
      "cell_type": "code",
      "metadata": {
        "id": "CmsdXNosUE25",
        "colab_type": "code",
        "colab": {
          "base_uri": "https://localhost:8080/",
          "height": 84
        },
        "outputId": "5ac8c0bb-6695-4727-ff9c-49b678895c47"
      },
      "source": [
        "df_categorical['syn_medical'].value_counts()"
      ],
      "execution_count": 16,
      "outputs": [
        {
          "output_type": "execute_result",
          "data": {
            "text/plain": [
              "Faible Synergie Médicale    24669\n",
              "Forte Synergie Médicale      6048\n",
              "Synergie Médicale            5960\n",
              "Name: syn_medical, dtype: int64"
            ]
          },
          "metadata": {
            "tags": []
          },
          "execution_count": 16
        }
      ]
    },
    {
      "cell_type": "code",
      "metadata": {
        "id": "rhH7WympUjFi",
        "colab_type": "code",
        "colab": {
          "base_uri": "https://localhost:8080/",
          "height": 67
        },
        "outputId": "60c860e5-50c7-4862-b9eb-927e9ceb7b38"
      },
      "source": [
        "# In this case, bucket low frequecy categories as \"Other\"\n",
        "df_categorical['syn_medical'] = ['Faible Synergie Médicale' if x == 'Faible Synergie Médicale' else 'Other' for x in df_categorical['syn_medical']]\n",
        "\n",
        "print(df_categorical['syn_medical'].value_counts().sort_values(ascending=False))"
      ],
      "execution_count": 17,
      "outputs": [
        {
          "output_type": "stream",
          "text": [
            "Faible Synergie Médicale    24669\n",
            "Other                       12008\n",
            "Name: syn_medical, dtype: int64\n"
          ],
          "name": "stdout"
        }
      ]
    },
    {
      "cell_type": "code",
      "metadata": {
        "id": "E-jdUpIhUjXg",
        "colab_type": "code",
        "colab": {
          "base_uri": "https://localhost:8080/",
          "height": 84
        },
        "outputId": "3253ccca-ebb0-4f8c-b7bd-a597789e9dc9"
      },
      "source": [
        "df_categorical['seg_dyn_entre'].value_counts()"
      ],
      "execution_count": 18,
      "outputs": [
        {
          "output_type": "execute_result",
          "data": {
            "text/plain": [
              "Faible dynamique        30187\n",
              "Dynamique Economique     5059\n",
              "Moyenne dynamique        1431\n",
              "Name: seg_dyn_entre, dtype: int64"
            ]
          },
          "metadata": {
            "tags": []
          },
          "execution_count": 18
        }
      ]
    },
    {
      "cell_type": "code",
      "metadata": {
        "id": "dha-kI_6Ujaf",
        "colab_type": "code",
        "colab": {
          "base_uri": "https://localhost:8080/",
          "height": 67
        },
        "outputId": "69e0bb6b-27ab-4533-f1a5-37099981261f"
      },
      "source": [
        "# In this case, bucket low frequecy categories as \"Other\"\n",
        "df_categorical['seg_dyn_entre'] = ['Faible dynamique' if x == 'Faible dynamique' else 'Other' for x in df_categorical['seg_dyn_entre']]\n",
        "\n",
        "print(df_categorical['seg_dyn_entre'].value_counts().sort_values(ascending=False))"
      ],
      "execution_count": 19,
      "outputs": [
        {
          "output_type": "stream",
          "text": [
            "Faible dynamique    30187\n",
            "Other                6490\n",
            "Name: seg_dyn_entre, dtype: int64\n"
          ],
          "name": "stdout"
        }
      ]
    },
    {
      "cell_type": "code",
      "metadata": {
        "id": "trQqQlaTUjdn",
        "colab_type": "code",
        "colab": {
          "base_uri": "https://localhost:8080/",
          "height": 84
        },
        "outputId": "756b81fd-f35f-4e59-8f12-90c022668915"
      },
      "source": [
        "df_categorical.dyn_setc.value_counts()"
      ],
      "execution_count": 20,
      "outputs": [
        {
          "output_type": "execute_result",
          "data": {
            "text/plain": [
              "Faible Dynamique Serv et Com              31916\n",
              "Bonne Dynamique Entreprise Serv et Com     3788\n",
              "Dynamique Serv et Com                       973\n",
              "Name: dyn_setc, dtype: int64"
            ]
          },
          "metadata": {
            "tags": []
          },
          "execution_count": 20
        }
      ]
    },
    {
      "cell_type": "code",
      "metadata": {
        "id": "GXa6Ua9tVvsF",
        "colab_type": "code",
        "colab": {
          "base_uri": "https://localhost:8080/",
          "height": 67
        },
        "outputId": "929fe2a6-dffd-4301-ec91-a5be92e8ebed"
      },
      "source": [
        "# In this case, bucket low frequecy categories as \"Other\"\n",
        "df_categorical['dyn_setc'] = ['Faible Dynamique Serv et Com' if x == 'Faible Dynamique Serv et Com' else 'Other' for x in df_categorical['dyn_setc']]\n",
        "\n",
        "print(df_categorical['dyn_setc'].value_counts().sort_values(ascending=False))"
      ],
      "execution_count": 21,
      "outputs": [
        {
          "output_type": "stream",
          "text": [
            "Faible Dynamique Serv et Com    31916\n",
            "Other                            4761\n",
            "Name: dyn_setc, dtype: int64\n"
          ],
          "name": "stdout"
        }
      ]
    },
    {
      "cell_type": "code",
      "metadata": {
        "id": "JV3-PF5rWIK5",
        "colab_type": "code",
        "colab": {}
      },
      "source": [
        "# df_categorical.seg_environnement_demographique_obsolete.value_counts()"
      ],
      "execution_count": 0,
      "outputs": []
    },
    {
      "cell_type": "code",
      "metadata": {
        "id": "bkEAD8NVWITj",
        "colab_type": "code",
        "colab": {}
      },
      "source": [
        "# # In this case, bucket low frequecy categories as \"Other\"\n",
        "# for x in df_categorical['seg_environnement_demographique_obsolete'] :\n",
        "  \n",
        "#     if x is 'Zone rurale en croissance démographique':  \n",
        "#         df_categorical['seg_environnement_demographique_obsolete'] = 'Zone rurale en croissance démographique'\n",
        "    \n",
        "#     elif x is 'Zone rurale en déclin démographique':  \n",
        "#         df_categorical['seg_environnement_demographique_obsolete'] = 'Zone rurale en déclin démographique'\n",
        "    \n",
        "#     else:\n",
        "#         df_categorical['seg_environnement_demographique_obsolete'] = 'other'\n",
        "        \n",
        "        \n",
        "    \n",
        "# print(df_categorical['seg_environnement_demographique_obsolete'].value_counts().sort_values(ascending=False))"
      ],
      "execution_count": 0,
      "outputs": []
    },
    {
      "cell_type": "code",
      "metadata": {
        "id": "-KxpuZoORF1_",
        "colab_type": "code",
        "colab": {
          "base_uri": "https://localhost:8080/",
          "height": 1000
        },
        "outputId": "88da9823-bed3-4ea8-aab5-294a689e125b"
      },
      "source": [
        "for c in df_categorical.columns:\n",
        "  print(df_categorical[c].value_counts().sort_values(ascending=False).head(10))\n",
        "  print()\n",
        " "
      ],
      "execution_count": 24,
      "outputs": [
        {
          "output_type": "stream",
          "text": [
            "0.137693    31610\n",
            "0.141015     5067\n",
            "Name: codgeo, dtype: int64\n",
            "\n",
            "Bassin Résidentiel         16870\n",
            "Bassin Urbain               8671\n",
            "Bassin Industriel           7122\n",
            "Bassins Agroalimentaire     2564\n",
            "Bassin diversifié           1450\n",
            "Name: orientation_economique, dtype: int64\n",
            "\n",
            "en croissance démographique    36666\n",
            "en déclin démographique           11\n",
            "Name: seg_croissance_pop, dtype: int64\n",
            "\n",
            "0.137693    27899\n",
            "0.141015     4613\n",
            "0.137237     1824\n",
            "0.136784      558\n",
            "0.140548      446\n",
            "0.136334      244\n",
            "0.140084      162\n",
            "0.135887      150\n",
            "0.139624      116\n",
            "0.135443       66\n",
            "Name: libgeo, dtype: int64\n",
            "\n",
            "0.149452    894\n",
            "0.082463    866\n",
            "0.063123    816\n",
            "0.107621    782\n",
            "0.095163    745\n",
            "0.072277    730\n",
            "0.082866    707\n",
            "0.104817    706\n",
            "0.064900    693\n",
            "0.076354    675\n",
            "Name: dep, dtype: int64\n",
            "\n",
            "Com rurale < 2 000 m habts     30052\n",
            "Other                           6625\n",
            "Name: urbanite_ruralite, dtype: int64\n",
            "\n",
            "Grande Ville                                          8671\n",
            "1.Accroissement par excédent naturel et migratoire    7677\n",
            "3.Accroissement par excédent migratoire               6037\n",
            "5.Déclin par déficit naturel                          4711\n",
            "4.Déclin par déficit naturel et migratoire            3680\n",
            "6.Déclin par déficit migratoire                       3438\n",
            "2.Accroissement par excédent naturel                  2463\n",
            "Name: dynamique_demographique_bv, dtype: int64\n",
            "\n",
            "Zone rurale en croissance démographique                   16177\n",
            "Zone rurale en déclin démographique                       11829\n",
            "Com rurale < 2 000 m habts en croissance démographique     5488\n",
            "Com > 200 m habts en croissance démographique              1369\n",
            "Com < 200 m habts en croissance démographique               836\n",
            "Com < 10 m habts en croissance démographique                430\n",
            "Com < 50 m habts en croissance démographique                354\n",
            "Com rurale > 2 000 habts en croissance démographique        194\n",
            "Name: seg_environnement_demographique_obsolete, dtype: int64\n",
            "\n",
            "Bassin Résidentiel en croissance démographique         16860\n",
            "Bassin Urbain en croissance démographique               8671\n",
            "Bassin Industriel en croissance démographique           7122\n",
            "Bassins Agroalimentaire en croissance démographique     2564\n",
            "Bassin diversifié en croissance démographique           1449\n",
            "Bassin Résidentiel en déclin démographique                10\n",
            "Bassin diversifié en déclin démographique                  1\n",
            "Name: environnement_demographique, dtype: int64\n",
            "\n",
            "Faible Synergie Médicale    24669\n",
            "Other                       12008\n",
            "Name: syn_medical, dtype: int64\n",
            "\n",
            "Fiscalité moyenne    28780\n",
            "Other                 7897\n",
            "Name: seg_cap_fiscale, dtype: int64\n",
            "\n",
            "Faible dynamique    30187\n",
            "Other                6490\n",
            "Name: seg_dyn_entre, dtype: int64\n",
            "\n",
            "Faible Dynamique Serv et Com    31916\n",
            "Other                            4761\n",
            "Name: dyn_setc, dtype: int64\n",
            "\n",
            "0.149452    894\n",
            "0.082463    866\n",
            "0.063123    816\n",
            "0.107621    782\n",
            "0.095163    745\n",
            "0.072277    730\n",
            "0.082866    707\n",
            "0.104817    706\n",
            "0.064900    693\n",
            "0.076354    675\n",
            "Name: cp, dtype: int64\n",
            "\n",
            "4    13119\n",
            "1    11340\n",
            "3     6405\n",
            "2     4840\n",
            "0      973\n",
            "Name: score_equipement_de_sante_bv, dtype: int64\n",
            "\n"
          ],
          "name": "stdout"
        }
      ]
    },
    {
      "cell_type": "markdown",
      "metadata": {
        "id": "MXXG9CQ9simy",
        "colab_type": "text"
      },
      "source": [
        "### Create our \"pipeline\" models with `ColumnTransformer` and `Pipeline`"
      ]
    },
    {
      "cell_type": "markdown",
      "metadata": {
        "id": "LlgphDYTsimz",
        "colab_type": "text"
      },
      "source": [
        "We'll define a new `ColumnTransformer` object that keeps our numerical features and apply one hot encoding on our categorical features. \n",
        "\n",
        "That will allow us to create a clean pipeline that includes both features engineering (one hot encoding here) and training the model (a nice way to avoid data leakage)"
      ]
    },
    {
      "cell_type": "code",
      "metadata": {
        "id": "KtmDROWT8aBN",
        "colab_type": "code",
        "colab": {}
      },
      "source": [
        "numeric_features =list(df_numeric)\n",
        "numeric_features.remove('camping')\n",
        "\n",
        "categorical_features =list(df_categorical)\n",
        "\n",
        "te_features = ['codgeo','libgeo','dep','cp']\n",
        "\n",
        "\n",
        "for i in te_features:\n",
        "  categorical_features.remove(i)\n",
        " \n",
        "\n",
        "\n",
        "numeric_transformer = Pipeline(steps=[\n",
        "    ('imputer', SimpleImputer(strategy='median')),\n",
        "    ('scaler', StandardScaler())])\n",
        "\n",
        "\n",
        "                                 \n",
        "categorical_transformer = Pipeline(steps=[\n",
        "    ('imputer', SimpleImputer(strategy='constant', fill_value='missing')),\n",
        "    ('onehot', OneHotEncoder(handle_unknown='ignore'))\n",
        "         ])\n",
        "\n",
        "                                 \n",
        "# target_encoding = Pipeline(steps=[\n",
        "#     ('imputer', SimpleImputer(strategy='constant', fill_value='missing')),\n",
        "#     ('TE', ce.TargetEncoder(cols=te_features) )\n",
        "#          ])\n",
        "\n",
        "preprocessor = ColumnTransformer(\n",
        "    transformers=[\n",
        "        ('num', numeric_transformer, numeric_features),\n",
        "        ('cat', categorical_transformer, categorical_features)\n",
        "                ])\n",
        "\n",
        "# Append classifier to preprocessing pipeline.\n",
        "# Now we have a full prediction pipeline.\n",
        "clf = Pipeline(steps=[('preprocessor', preprocessor),\n",
        "                      ('classifier', LogisticRegression(class_weight=\"balanced\", \n",
        "                                                  solver=\"liblinear\", \n",
        "                                                  random_state=42,max_iter = 1100))])"
      ],
      "execution_count": 0,
      "outputs": []
    },
    {
      "cell_type": "code",
      "metadata": {
        "id": "_toIoj6Hxxid",
        "colab_type": "code",
        "outputId": "74a7fea5-d5b3-49e8-b9a6-58fd11146b4a",
        "colab": {
          "base_uri": "https://localhost:8080/",
          "height": 33
        }
      },
      "source": [
        "# print(data.shape)\n",
        "\n",
        "df_numeric = pd.DataFrame(data=X_incomplete,index= range(0,len(X_incomplete)),columns=X_incomplete.columns)  \n",
        "# print(df_numeric.shape)\n",
        "\n",
        "merged =pd.concat([df_numeric, df_categorical], axis=1)\n",
        "\n",
        "\n",
        "#duplicated columns\n",
        "\n",
        "merged = merged.loc[:,~merged.columns.duplicated()]\n",
        "\n",
        "print(merged.shape)"
      ],
      "execution_count": 26,
      "outputs": [
        {
          "output_type": "stream",
          "text": [
            "(36677, 96)\n"
          ],
          "name": "stdout"
        }
      ]
    },
    {
      "cell_type": "markdown",
      "metadata": {
        "id": "BBnrdjfEsim2",
        "colab_type": "text"
      },
      "source": [
        "Now we can define our 4 models as sklearn `Pipeline` objects, containing our preprocessing step and training of one given algorithm."
      ]
    },
    {
      "cell_type": "code",
      "metadata": {
        "id": "URZ6s1Bzsim3",
        "colab_type": "code",
        "colab": {}
      },
      "source": [
        "# from sklearn.linear_model import LogisticRegression\n",
        "\n",
        "# # # Logistic Regression\n",
        "# # lr_model = Pipeline([(\"preprocessor\", preprocessor), \n",
        "# #                      (\"model\", LogisticRegression(class_weight=\"balanced\", \n",
        "# #                                                   solver=\"liblinear\", \n",
        "# #                                                   random_state=42))])\n",
        "\n",
        "# # Now we have a full prediction pipeline.\n",
        "# lr_model = Pipeline(steps=[('preprocessor', preprocessor),\n",
        "#                       ('classifier', LogisticRegression(solver='lbfgs'))])"
      ],
      "execution_count": 0,
      "outputs": []
    },
    {
      "cell_type": "markdown",
      "metadata": {
        "id": "pETwdSUcsim5",
        "colab_type": "text"
      },
      "source": [
        "Let's split the data into training and test sets."
      ]
    },
    {
      "cell_type": "code",
      "metadata": {
        "id": "WONzHqY4xnHM",
        "colab_type": "code",
        "outputId": "28ef9761-260f-4700-8e03-83fc829fe075",
        "colab": {
          "base_uri": "https://localhost:8080/",
          "height": 463
        }
      },
      "source": [
        "# Get X, y\n",
        "y = merged['camping']\n",
        "X = merged.drop(\"camping\", axis=1)\n",
        "\n",
        "X.reset_index(drop=True).head()"
      ],
      "execution_count": 28,
      "outputs": [
        {
          "output_type": "execute_result",
          "data": {
            "text/html": [
              "<div>\n",
              "<style scoped>\n",
              "    .dataframe tbody tr th:only-of-type {\n",
              "        vertical-align: middle;\n",
              "    }\n",
              "\n",
              "    .dataframe tbody tr th {\n",
              "        vertical-align: top;\n",
              "    }\n",
              "\n",
              "    .dataframe thead th {\n",
              "        text-align: right;\n",
              "    }\n",
              "</style>\n",
              "<table border=\"1\" class=\"dataframe\">\n",
              "  <thead>\n",
              "    <tr style=\"text-align: right;\">\n",
              "      <th></th>\n",
              "      <th>nb_pharmacies_et_parfumerie</th>\n",
              "      <th>dynamique_entrepreneuriale</th>\n",
              "      <th>dynamique_entrepreneuriale_service_et_commerce</th>\n",
              "      <th>synergie_medicale_commune</th>\n",
              "      <th>indice_fiscal_partiel</th>\n",
              "      <th>score_fiscal</th>\n",
              "      <th>indice_synergie_medicale</th>\n",
              "      <th>score_synergie_medicale</th>\n",
              "      <th>reg</th>\n",
              "      <th>nb_omnipraticiens_bv</th>\n",
              "      <th>nb_infirmiers_liberaux_bv</th>\n",
              "      <th>nb_dentistes_liberaux_bv</th>\n",
              "      <th>nb_pharmaciens_liberaux_bv</th>\n",
              "      <th>densite_medicale_bv</th>\n",
              "      <th>score_equipement_de_sante_bv</th>\n",
              "      <th>indice_demographique</th>\n",
              "      <th>score_demographique</th>\n",
              "      <th>indice_menages</th>\n",
              "      <th>score_menages</th>\n",
              "      <th>population</th>\n",
              "      <th>evolution_population</th>\n",
              "      <th>evolution_pop_</th>\n",
              "      <th>nb_menages</th>\n",
              "      <th>nb_residences_principales</th>\n",
              "      <th>nb_proprietaire</th>\n",
              "      <th>nb_logement</th>\n",
              "      <th>nb_residences_secondaires</th>\n",
              "      <th>nb_log_vacants</th>\n",
              "      <th>nb_occupants_residence_principale</th>\n",
              "      <th>nb_femme</th>\n",
              "      <th>nb_homme</th>\n",
              "      <th>nb_mineurs</th>\n",
              "      <th>nb_majeurs</th>\n",
              "      <th>nb_etudiants</th>\n",
              "      <th>nb_entreprises_secteur_services</th>\n",
              "      <th>nb_entreprises_secteur_commerce</th>\n",
              "      <th>nb_entreprises_secteur_construction</th>\n",
              "      <th>nb_entreprises_secteur_industrie</th>\n",
              "      <th>nb_creation_enteprises</th>\n",
              "      <th>nb_creation_industrielles</th>\n",
              "      <th>...</th>\n",
              "      <th>valeur_ajoutee_regionale</th>\n",
              "      <th>score_urbanite</th>\n",
              "      <th>nb_atifs</th>\n",
              "      <th>nb_actifs_salaries</th>\n",
              "      <th>nb_actifs_non_salaries</th>\n",
              "      <th>nb_logement_secondaire_et_occasionnel</th>\n",
              "      <th>nb_hotel</th>\n",
              "      <th>capacite_hotel</th>\n",
              "      <th>taux_etudiants</th>\n",
              "      <th>taux_propriete</th>\n",
              "      <th>dynamique_demographique_insee</th>\n",
              "      <th>capacite_fisc</th>\n",
              "      <th>capacite_fiscale</th>\n",
              "      <th>moyenne_revnus_fiscaux</th>\n",
              "      <th>nb_education_sante_action_sociale</th>\n",
              "      <th>nb_services_personnels_et_domestiques</th>\n",
              "      <th>nb_sante_action_sociale</th>\n",
              "      <th>nb_industries_des_biens_intermediaires</th>\n",
              "      <th>nb_de_commerce</th>\n",
              "      <th>nb_de_services_aux_particuliers</th>\n",
              "      <th>nb_institution_de_education_sante_action_sociale_administration</th>\n",
              "      <th>pib_regionnal</th>\n",
              "      <th>score_croissance_population</th>\n",
              "      <th>score_croissance_entrepreneuriale</th>\n",
              "      <th>score_va_region</th>\n",
              "      <th>score_pib</th>\n",
              "      <th>codgeo</th>\n",
              "      <th>orientation_economique</th>\n",
              "      <th>seg_croissance_pop</th>\n",
              "      <th>libgeo</th>\n",
              "      <th>dep</th>\n",
              "      <th>urbanite_ruralite</th>\n",
              "      <th>dynamique_demographique_bv</th>\n",
              "      <th>seg_environnement_demographique_obsolete</th>\n",
              "      <th>environnement_demographique</th>\n",
              "      <th>syn_medical</th>\n",
              "      <th>seg_cap_fiscale</th>\n",
              "      <th>seg_dyn_entre</th>\n",
              "      <th>dyn_setc</th>\n",
              "      <th>cp</th>\n",
              "    </tr>\n",
              "  </thead>\n",
              "  <tbody>\n",
              "    <tr>\n",
              "      <th>0</th>\n",
              "      <td>0.0</td>\n",
              "      <td>57.0</td>\n",
              "      <td>23.0</td>\n",
              "      <td>114.0</td>\n",
              "      <td>101.93878</td>\n",
              "      <td>59.04139</td>\n",
              "      <td>114.56713</td>\n",
              "      <td>0.13481</td>\n",
              "      <td>82.0</td>\n",
              "      <td>9.0</td>\n",
              "      <td>14.0</td>\n",
              "      <td>7.0</td>\n",
              "      <td>7.0</td>\n",
              "      <td>0.092860</td>\n",
              "      <td>4.0</td>\n",
              "      <td>44.19769</td>\n",
              "      <td>0.03410</td>\n",
              "      <td>37.22029</td>\n",
              "      <td>0.02223</td>\n",
              "      <td>725.0</td>\n",
              "      <td>16.0</td>\n",
              "      <td>2.0</td>\n",
              "      <td>247.0</td>\n",
              "      <td>248.0</td>\n",
              "      <td>196.0</td>\n",
              "      <td>289.0</td>\n",
              "      <td>32.0</td>\n",
              "      <td>9.0</td>\n",
              "      <td>728.0</td>\n",
              "      <td>694.0</td>\n",
              "      <td>714.0</td>\n",
              "      <td>909.0</td>\n",
              "      <td>499.0</td>\n",
              "      <td>51.0</td>\n",
              "      <td>7.0</td>\n",
              "      <td>11.0</td>\n",
              "      <td>2.0</td>\n",
              "      <td>2.0</td>\n",
              "      <td>4.0</td>\n",
              "      <td>0.0</td>\n",
              "      <td>...</td>\n",
              "      <td>86957.458359</td>\n",
              "      <td>0.0</td>\n",
              "      <td>295.0</td>\n",
              "      <td>254.0</td>\n",
              "      <td>41.0</td>\n",
              "      <td>32.0</td>\n",
              "      <td>0.0</td>\n",
              "      <td>0.0</td>\n",
              "      <td>0.0</td>\n",
              "      <td>67.0</td>\n",
              "      <td>-1.0</td>\n",
              "      <td>117.0</td>\n",
              "      <td>117.0</td>\n",
              "      <td>11483.5</td>\n",
              "      <td>3.0</td>\n",
              "      <td>1.0</td>\n",
              "      <td>0.0</td>\n",
              "      <td>9364.0</td>\n",
              "      <td>9350.0</td>\n",
              "      <td>3372.0</td>\n",
              "      <td>15105.0</td>\n",
              "      <td>173681.0</td>\n",
              "      <td>72.13115</td>\n",
              "      <td>0.01585</td>\n",
              "      <td>32.42578</td>\n",
              "      <td>33.83811</td>\n",
              "      <td>0.137693</td>\n",
              "      <td>Bassin Industriel</td>\n",
              "      <td>en croissance démographique</td>\n",
              "      <td>0.137693</td>\n",
              "      <td>0.143874</td>\n",
              "      <td>Com rurale &lt; 2 000 m habts</td>\n",
              "      <td>1.Accroissement par excédent naturel et migrat...</td>\n",
              "      <td>Zone rurale en croissance démographique</td>\n",
              "      <td>Bassin Industriel en croissance démographique</td>\n",
              "      <td>Other</td>\n",
              "      <td>Fiscalité moyenne</td>\n",
              "      <td>Faible dynamique</td>\n",
              "      <td>Faible Dynamique Serv et Com</td>\n",
              "      <td>0.143874</td>\n",
              "    </tr>\n",
              "    <tr>\n",
              "      <th>1</th>\n",
              "      <td>0.0</td>\n",
              "      <td>45.0</td>\n",
              "      <td>4.0</td>\n",
              "      <td>143.0</td>\n",
              "      <td>101.93878</td>\n",
              "      <td>59.04139</td>\n",
              "      <td>143.71141</td>\n",
              "      <td>0.17351</td>\n",
              "      <td>82.0</td>\n",
              "      <td>31.0</td>\n",
              "      <td>36.0</td>\n",
              "      <td>18.0</td>\n",
              "      <td>18.0</td>\n",
              "      <td>0.099229</td>\n",
              "      <td>4.0</td>\n",
              "      <td>10.18071</td>\n",
              "      <td>0.00786</td>\n",
              "      <td>10.09619</td>\n",
              "      <td>0.00603</td>\n",
              "      <td>167.0</td>\n",
              "      <td>4.0</td>\n",
              "      <td>2.0</td>\n",
              "      <td>67.0</td>\n",
              "      <td>67.0</td>\n",
              "      <td>61.0</td>\n",
              "      <td>142.0</td>\n",
              "      <td>71.0</td>\n",
              "      <td>4.0</td>\n",
              "      <td>168.0</td>\n",
              "      <td>162.0</td>\n",
              "      <td>164.0</td>\n",
              "      <td>202.0</td>\n",
              "      <td>124.0</td>\n",
              "      <td>5.0</td>\n",
              "      <td>4.0</td>\n",
              "      <td>0.0</td>\n",
              "      <td>1.0</td>\n",
              "      <td>0.0</td>\n",
              "      <td>1.0</td>\n",
              "      <td>0.0</td>\n",
              "      <td>...</td>\n",
              "      <td>86957.458359</td>\n",
              "      <td>0.0</td>\n",
              "      <td>57.0</td>\n",
              "      <td>49.0</td>\n",
              "      <td>8.0</td>\n",
              "      <td>71.0</td>\n",
              "      <td>0.0</td>\n",
              "      <td>0.0</td>\n",
              "      <td>0.0</td>\n",
              "      <td>42.0</td>\n",
              "      <td>0.0</td>\n",
              "      <td>110.0</td>\n",
              "      <td>110.0</td>\n",
              "      <td>11483.5</td>\n",
              "      <td>0.0</td>\n",
              "      <td>0.0</td>\n",
              "      <td>0.0</td>\n",
              "      <td>9364.0</td>\n",
              "      <td>9350.0</td>\n",
              "      <td>3372.0</td>\n",
              "      <td>15105.0</td>\n",
              "      <td>173681.0</td>\n",
              "      <td>72.13115</td>\n",
              "      <td>0.00173</td>\n",
              "      <td>32.42578</td>\n",
              "      <td>33.83811</td>\n",
              "      <td>0.137693</td>\n",
              "      <td>Bassin Résidentiel</td>\n",
              "      <td>en croissance démographique</td>\n",
              "      <td>0.137693</td>\n",
              "      <td>0.143874</td>\n",
              "      <td>Com rurale &lt; 2 000 m habts</td>\n",
              "      <td>1.Accroissement par excédent naturel et migrat...</td>\n",
              "      <td>Zone rurale en croissance démographique</td>\n",
              "      <td>Bassin Résidentiel en croissance démographique</td>\n",
              "      <td>Other</td>\n",
              "      <td>Fiscalité moyenne</td>\n",
              "      <td>Faible dynamique</td>\n",
              "      <td>Faible Dynamique Serv et Com</td>\n",
              "      <td>0.143874</td>\n",
              "    </tr>\n",
              "    <tr>\n",
              "      <th>2</th>\n",
              "      <td>0.0</td>\n",
              "      <td>634.0</td>\n",
              "      <td>828.0</td>\n",
              "      <td>366.0</td>\n",
              "      <td>101.93878</td>\n",
              "      <td>59.04139</td>\n",
              "      <td>367.82080</td>\n",
              "      <td>0.47115</td>\n",
              "      <td>82.0</td>\n",
              "      <td>31.0</td>\n",
              "      <td>36.0</td>\n",
              "      <td>18.0</td>\n",
              "      <td>18.0</td>\n",
              "      <td>0.099229</td>\n",
              "      <td>4.0</td>\n",
              "      <td>696.92134</td>\n",
              "      <td>0.53776</td>\n",
              "      <td>699.19896</td>\n",
              "      <td>0.41767</td>\n",
              "      <td>11432.0</td>\n",
              "      <td>512.0</td>\n",
              "      <td>4.0</td>\n",
              "      <td>4640.0</td>\n",
              "      <td>4635.0</td>\n",
              "      <td>1968.0</td>\n",
              "      <td>5184.0</td>\n",
              "      <td>135.0</td>\n",
              "      <td>414.0</td>\n",
              "      <td>11015.0</td>\n",
              "      <td>11350.0</td>\n",
              "      <td>10878.0</td>\n",
              "      <td>13624.0</td>\n",
              "      <td>8604.0</td>\n",
              "      <td>904.0</td>\n",
              "      <td>342.0</td>\n",
              "      <td>301.0</td>\n",
              "      <td>58.0</td>\n",
              "      <td>108.0</td>\n",
              "      <td>83.0</td>\n",
              "      <td>4.0</td>\n",
              "      <td>...</td>\n",
              "      <td>86957.458359</td>\n",
              "      <td>37.5</td>\n",
              "      <td>4556.0</td>\n",
              "      <td>4203.0</td>\n",
              "      <td>353.0</td>\n",
              "      <td>135.0</td>\n",
              "      <td>2.0</td>\n",
              "      <td>52.0</td>\n",
              "      <td>0.0</td>\n",
              "      <td>37.0</td>\n",
              "      <td>-55.0</td>\n",
              "      <td>250.0</td>\n",
              "      <td>250.0</td>\n",
              "      <td>11483.5</td>\n",
              "      <td>113.0</td>\n",
              "      <td>41.0</td>\n",
              "      <td>118.0</td>\n",
              "      <td>9364.0</td>\n",
              "      <td>9350.0</td>\n",
              "      <td>3372.0</td>\n",
              "      <td>15105.0</td>\n",
              "      <td>173681.0</td>\n",
              "      <td>72.95082</td>\n",
              "      <td>0.38471</td>\n",
              "      <td>32.42578</td>\n",
              "      <td>33.83811</td>\n",
              "      <td>0.137693</td>\n",
              "      <td>Bassin Résidentiel</td>\n",
              "      <td>en croissance démographique</td>\n",
              "      <td>0.137693</td>\n",
              "      <td>0.143874</td>\n",
              "      <td>Other</td>\n",
              "      <td>1.Accroissement par excédent naturel et migrat...</td>\n",
              "      <td>Zone rurale en croissance démographique</td>\n",
              "      <td>Bassin Résidentiel en croissance démographique</td>\n",
              "      <td>Other</td>\n",
              "      <td>Fiscalité moyenne</td>\n",
              "      <td>Other</td>\n",
              "      <td>Other</td>\n",
              "      <td>0.143874</td>\n",
              "    </tr>\n",
              "    <tr>\n",
              "      <th>3</th>\n",
              "      <td>0.0</td>\n",
              "      <td>113.0</td>\n",
              "      <td>62.0</td>\n",
              "      <td>132.0</td>\n",
              "      <td>101.93878</td>\n",
              "      <td>59.04139</td>\n",
              "      <td>132.65668</td>\n",
              "      <td>0.15883</td>\n",
              "      <td>82.0</td>\n",
              "      <td>12.0</td>\n",
              "      <td>12.0</td>\n",
              "      <td>6.0</td>\n",
              "      <td>6.0</td>\n",
              "      <td>1.000000</td>\n",
              "      <td>1.0</td>\n",
              "      <td>85.77400</td>\n",
              "      <td>0.06619</td>\n",
              "      <td>71.27610</td>\n",
              "      <td>0.04258</td>\n",
              "      <td>1407.0</td>\n",
              "      <td>39.0</td>\n",
              "      <td>2.0</td>\n",
              "      <td>473.0</td>\n",
              "      <td>473.0</td>\n",
              "      <td>344.0</td>\n",
              "      <td>505.0</td>\n",
              "      <td>14.0</td>\n",
              "      <td>18.0</td>\n",
              "      <td>1406.0</td>\n",
              "      <td>1324.0</td>\n",
              "      <td>1402.0</td>\n",
              "      <td>1758.0</td>\n",
              "      <td>968.0</td>\n",
              "      <td>97.0</td>\n",
              "      <td>22.0</td>\n",
              "      <td>26.0</td>\n",
              "      <td>17.0</td>\n",
              "      <td>10.0</td>\n",
              "      <td>6.0</td>\n",
              "      <td>0.0</td>\n",
              "      <td>...</td>\n",
              "      <td>86957.458359</td>\n",
              "      <td>0.0</td>\n",
              "      <td>621.0</td>\n",
              "      <td>535.0</td>\n",
              "      <td>86.0</td>\n",
              "      <td>14.0</td>\n",
              "      <td>2.0</td>\n",
              "      <td>17.0</td>\n",
              "      <td>0.0</td>\n",
              "      <td>68.0</td>\n",
              "      <td>-3.0</td>\n",
              "      <td>127.0</td>\n",
              "      <td>127.0</td>\n",
              "      <td>11483.5</td>\n",
              "      <td>5.0</td>\n",
              "      <td>2.0</td>\n",
              "      <td>7.0</td>\n",
              "      <td>9364.0</td>\n",
              "      <td>9350.0</td>\n",
              "      <td>3372.0</td>\n",
              "      <td>15105.0</td>\n",
              "      <td>173681.0</td>\n",
              "      <td>72.13115</td>\n",
              "      <td>0.02824</td>\n",
              "      <td>32.42578</td>\n",
              "      <td>33.83811</td>\n",
              "      <td>0.141015</td>\n",
              "      <td>Bassin Urbain</td>\n",
              "      <td>en croissance démographique</td>\n",
              "      <td>0.141015</td>\n",
              "      <td>0.143874</td>\n",
              "      <td>Com rurale &lt; 2 000 m habts</td>\n",
              "      <td>Grande Ville</td>\n",
              "      <td>Com rurale &lt; 2 000 m habts en croissance démog...</td>\n",
              "      <td>Bassin Urbain en croissance démographique</td>\n",
              "      <td>Other</td>\n",
              "      <td>Fiscalité moyenne</td>\n",
              "      <td>Other</td>\n",
              "      <td>Faible Dynamique Serv et Com</td>\n",
              "      <td>0.143874</td>\n",
              "    </tr>\n",
              "    <tr>\n",
              "      <th>4</th>\n",
              "      <td>0.0</td>\n",
              "      <td>42.0</td>\n",
              "      <td>1.0</td>\n",
              "      <td>121.0</td>\n",
              "      <td>101.93878</td>\n",
              "      <td>59.04139</td>\n",
              "      <td>121.60196</td>\n",
              "      <td>0.14415</td>\n",
              "      <td>82.0</td>\n",
              "      <td>26.0</td>\n",
              "      <td>21.0</td>\n",
              "      <td>10.0</td>\n",
              "      <td>10.0</td>\n",
              "      <td>0.100905</td>\n",
              "      <td>3.0</td>\n",
              "      <td>5.24276</td>\n",
              "      <td>0.00405</td>\n",
              "      <td>6.17827</td>\n",
              "      <td>0.00369</td>\n",
              "      <td>86.0</td>\n",
              "      <td>-8.0</td>\n",
              "      <td>-9.0</td>\n",
              "      <td>41.0</td>\n",
              "      <td>41.0</td>\n",
              "      <td>28.0</td>\n",
              "      <td>57.0</td>\n",
              "      <td>13.0</td>\n",
              "      <td>3.0</td>\n",
              "      <td>86.0</td>\n",
              "      <td>86.0</td>\n",
              "      <td>86.0</td>\n",
              "      <td>101.0</td>\n",
              "      <td>71.0</td>\n",
              "      <td>2.0</td>\n",
              "      <td>1.0</td>\n",
              "      <td>0.0</td>\n",
              "      <td>0.0</td>\n",
              "      <td>0.0</td>\n",
              "      <td>0.0</td>\n",
              "      <td>0.0</td>\n",
              "      <td>...</td>\n",
              "      <td>86957.458359</td>\n",
              "      <td>0.0</td>\n",
              "      <td>37.0</td>\n",
              "      <td>33.0</td>\n",
              "      <td>4.0</td>\n",
              "      <td>13.0</td>\n",
              "      <td>0.0</td>\n",
              "      <td>0.0</td>\n",
              "      <td>0.0</td>\n",
              "      <td>49.0</td>\n",
              "      <td>0.0</td>\n",
              "      <td>109.0</td>\n",
              "      <td>109.0</td>\n",
              "      <td>11483.5</td>\n",
              "      <td>0.0</td>\n",
              "      <td>0.0</td>\n",
              "      <td>0.0</td>\n",
              "      <td>9364.0</td>\n",
              "      <td>9350.0</td>\n",
              "      <td>3372.0</td>\n",
              "      <td>15105.0</td>\n",
              "      <td>173681.0</td>\n",
              "      <td>67.62295</td>\n",
              "      <td>0.00000</td>\n",
              "      <td>32.42578</td>\n",
              "      <td>33.83811</td>\n",
              "      <td>0.137693</td>\n",
              "      <td>Bassin Résidentiel</td>\n",
              "      <td>en croissance démographique</td>\n",
              "      <td>0.137693</td>\n",
              "      <td>0.143874</td>\n",
              "      <td>Com rurale &lt; 2 000 m habts</td>\n",
              "      <td>3.Accroissement par excédent migratoire</td>\n",
              "      <td>Zone rurale en croissance démographique</td>\n",
              "      <td>Bassin Résidentiel en croissance démographique</td>\n",
              "      <td>Other</td>\n",
              "      <td>Fiscalité moyenne</td>\n",
              "      <td>Faible dynamique</td>\n",
              "      <td>Faible Dynamique Serv et Com</td>\n",
              "      <td>0.143874</td>\n",
              "    </tr>\n",
              "  </tbody>\n",
              "</table>\n",
              "<p>5 rows × 95 columns</p>\n",
              "</div>"
            ],
            "text/plain": [
              "   nb_pharmacies_et_parfumerie  ...        cp\n",
              "0                          0.0  ...  0.143874\n",
              "1                          0.0  ...  0.143874\n",
              "2                          0.0  ...  0.143874\n",
              "3                          0.0  ...  0.143874\n",
              "4                          0.0  ...  0.143874\n",
              "\n",
              "[5 rows x 95 columns]"
            ]
          },
          "metadata": {
            "tags": []
          },
          "execution_count": 28
        }
      ]
    },
    {
      "cell_type": "code",
      "metadata": {
        "id": "cb_68Odosim6",
        "colab_type": "code",
        "outputId": "55e351e3-86dd-401f-fc87-0b72a12621eb",
        "colab": {
          "base_uri": "https://localhost:8080/",
          "height": 33
        }
      },
      "source": [
        "X_train, X_test, y_train, y_test = train_test_split(X, y, stratify=y,test_size=.3)\n",
        "\n",
        "\n",
        "print(np.shape(X_train))"
      ],
      "execution_count": 29,
      "outputs": [
        {
          "output_type": "stream",
          "text": [
            "(25673, 95)\n"
          ],
          "name": "stdout"
        }
      ]
    },
    {
      "cell_type": "markdown",
      "metadata": {
        "id": "gB3Mpcc4sim9",
        "colab_type": "text"
      },
      "source": [
        "We're good to go!"
      ]
    },
    {
      "cell_type": "markdown",
      "metadata": {
        "id": "lkG6629tsim9",
        "colab_type": "text"
      },
      "source": [
        "### Train Logistic Regression"
      ]
    },
    {
      "cell_type": "markdown",
      "metadata": {
        "id": "fSKdeg8qsim-",
        "colab_type": "text"
      },
      "source": [
        "First let's fine tune our logistic regression and evaluate its performance. We can treat our pipeline object like a normal sklearn model and call `.fit` or `.predict` on it. We can also directly pass it to the `GridSearchCV` function."
      ]
    },
    {
      "cell_type": "code",
      "metadata": {
        "id": "CAkl0HZm8wR-",
        "colab_type": "code",
        "outputId": "91b67e3b-eccd-4359-a9b4-e9455885993b",
        "colab": {
          "base_uri": "https://localhost:8080/",
          "height": 33
        }
      },
      "source": [
        "clf.fit(X_train, y_train)\n",
        "\n",
        "print(\"model score: %.3f\" % clf.score(X_test, y_test))"
      ],
      "execution_count": 30,
      "outputs": [
        {
          "output_type": "stream",
          "text": [
            "model score: 0.819\n"
          ],
          "name": "stdout"
        }
      ]
    },
    {
      "cell_type": "code",
      "metadata": {
        "id": "JdvUHfTfsim-",
        "colab_type": "code",
        "colab": {
          "base_uri": "https://localhost:8080/",
          "height": 84
        },
        "outputId": "dc5551fa-d75c-4d82-e954-a8e491bc1e0a"
      },
      "source": [
        "param_grid = {\n",
        "    'preprocessor__num__imputer__strategy': ['mean', 'median'],\n",
        "    'classifier__C': [0.1, 1.0, 10],\n",
        "}\n",
        "\n",
        "grid_search = GridSearchCV(clf, param_grid, cv=5, verbose =1,iid=False)\n",
        "grid_search.fit(X_train, y_train)\n",
        "\n",
        "print((\"best logistic regression from grid search: %.3f\"\n",
        "       % grid_search.score(X_test, y_test)))"
      ],
      "execution_count": 33,
      "outputs": [
        {
          "output_type": "stream",
          "text": [
            "Fitting 5 folds for each of 6 candidates, totalling 30 fits\n"
          ],
          "name": "stdout"
        },
        {
          "output_type": "stream",
          "text": [
            "[Parallel(n_jobs=1)]: Using backend SequentialBackend with 1 concurrent workers.\n",
            "[Parallel(n_jobs=1)]: Done  30 out of  30 | elapsed:  3.5min finished\n"
          ],
          "name": "stderr"
        },
        {
          "output_type": "stream",
          "text": [
            "best logistic regression from grid search: 0.819\n"
          ],
          "name": "stdout"
        }
      ]
    },
    {
      "cell_type": "markdown",
      "metadata": {
        "id": "fr1diRBysinB",
        "colab_type": "text"
      },
      "source": [
        "Let's see our best parameters and score"
      ]
    },
    {
      "cell_type": "code",
      "metadata": {
        "id": "ol7cZw5gsinB",
        "colab_type": "code",
        "outputId": "f5cbe5cb-a633-4ce4-cd6c-7aec6af8f6a4",
        "colab": {
          "base_uri": "https://localhost:8080/",
          "height": 50
        }
      },
      "source": [
        "print(grid_search.best_params_)\n",
        "print(grid_search.best_score_)"
      ],
      "execution_count": 34,
      "outputs": [
        {
          "output_type": "stream",
          "text": [
            "{'classifier__C': 1.0, 'preprocessor__num__imputer__strategy': 'mean'}\n",
            "0.822693330997702\n"
          ],
          "name": "stdout"
        }
      ]
    },
    {
      "cell_type": "markdown",
      "metadata": {
        "id": "PE8N79VdsinE",
        "colab_type": "text"
      },
      "source": [
        "Let's retrain our model on the whole training data with the best parameters. First we need to update the parameters inside our pipeline. We can use the `set_params` method for that."
      ]
    },
    {
      "cell_type": "code",
      "metadata": {
        "id": "y60KaZWKsinE",
        "colab_type": "code",
        "outputId": "d6562167-e3dc-4af2-a7a2-8dc25bedccfc",
        "colab": {
          "base_uri": "https://localhost:8080/",
          "height": 502
        }
      },
      "source": [
        "clf.set_params(**grid_search.best_params_)"
      ],
      "execution_count": 35,
      "outputs": [
        {
          "output_type": "execute_result",
          "data": {
            "text/plain": [
              "Pipeline(memory=None,\n",
              "         steps=[('preprocessor',\n",
              "                 ColumnTransformer(n_jobs=None, remainder='drop',\n",
              "                                   sparse_threshold=0.3,\n",
              "                                   transformer_weights=None,\n",
              "                                   transformers=[('num',\n",
              "                                                  Pipeline(memory=None,\n",
              "                                                           steps=[('imputer',\n",
              "                                                                   SimpleImputer(add_indicator=False,\n",
              "                                                                                 copy=True,\n",
              "                                                                                 fill_value=None,\n",
              "                                                                                 missing_values=nan,\n",
              "                                                                                 strategy='mean',\n",
              "                                                                                 verbose=0)),\n",
              "                                                                  ('scaler',\n",
              "                                                                   StandardScaler(copy=True,\n",
              "                                                                                  with_mean=T...\n",
              "                                                   'seg_dyn_entre', 'dyn_setc',\n",
              "                                                   'score_equipement_de_sante_bv'])],\n",
              "                                   verbose=False)),\n",
              "                ('classifier',\n",
              "                 LogisticRegression(C=1.0, class_weight='balanced', dual=False,\n",
              "                                    fit_intercept=True, intercept_scaling=1,\n",
              "                                    l1_ratio=None, max_iter=1100,\n",
              "                                    multi_class='warn', n_jobs=None,\n",
              "                                    penalty='l2', random_state=42,\n",
              "                                    solver='liblinear', tol=0.0001, verbose=0,\n",
              "                                    warm_start=False))],\n",
              "         verbose=False)"
            ]
          },
          "metadata": {
            "tags": []
          },
          "execution_count": 35
        }
      ]
    },
    {
      "cell_type": "markdown",
      "metadata": {
        "id": "D4qCibmRsinH",
        "colab_type": "text"
      },
      "source": [
        "We can run `get_params` to get the parameters of our model as a sanity check that we have properly updated the parameters."
      ]
    },
    {
      "cell_type": "code",
      "metadata": {
        "id": "WGv5ljbTsinH",
        "colab_type": "code",
        "colab": {}
      },
      "source": [
        "# clf.get_params(\"classifier\")"
      ],
      "execution_count": 0,
      "outputs": []
    },
    {
      "cell_type": "markdown",
      "metadata": {
        "id": "t0hnSU33sinJ",
        "colab_type": "text"
      },
      "source": [
        "Now we can fit the model on the whole training set and calculate accuracy on the test set."
      ]
    },
    {
      "cell_type": "code",
      "metadata": {
        "id": "nW9RKouUsinK",
        "colab_type": "code",
        "colab": {}
      },
      "source": [
        "# clf.fit(X_train, y_train)"
      ],
      "execution_count": 0,
      "outputs": []
    },
    {
      "cell_type": "markdown",
      "metadata": {
        "id": "i_hwM_KrsinM",
        "colab_type": "text"
      },
      "source": [
        "Generate predictions"
      ]
    },
    {
      "cell_type": "code",
      "metadata": {
        "id": "w_7K1I3gsinN",
        "colab_type": "code",
        "colab": {}
      },
      "source": [
        "y_pred = clf.predict(X_test)"
      ],
      "execution_count": 0,
      "outputs": []
    },
    {
      "cell_type": "code",
      "metadata": {
        "id": "6KQd60s4sinQ",
        "colab_type": "code",
        "outputId": "410c0fcb-4ef1-46f6-9d4d-1d4372a864ff",
        "colab": {
          "base_uri": "https://localhost:8080/",
          "height": 33
        }
      },
      "source": [
        "accuracy_score(y_test, y_pred)"
      ],
      "execution_count": 37,
      "outputs": [
        {
          "output_type": "execute_result",
          "data": {
            "text/plain": [
              "0.819429298436932"
            ]
          },
          "metadata": {
            "tags": []
          },
          "execution_count": 37
        }
      ]
    },
    {
      "cell_type": "code",
      "metadata": {
        "id": "UB3hsjY6sinT",
        "colab_type": "code",
        "outputId": "6495a5ae-5942-4847-dfc5-dac62ba76050",
        "colab": {
          "base_uri": "https://localhost:8080/",
          "height": 167
        }
      },
      "source": [
        "print(classification_report(y_test, y_pred))"
      ],
      "execution_count": 38,
      "outputs": [
        {
          "output_type": "stream",
          "text": [
            "              precision    recall  f1-score   support\n",
            "\n",
            "         0.0       0.95      0.84      0.89      9484\n",
            "         1.0       0.41      0.70      0.52      1520\n",
            "\n",
            "    accuracy                           0.82     11004\n",
            "   macro avg       0.68      0.77      0.70     11004\n",
            "weighted avg       0.87      0.82      0.84     11004\n",
            "\n"
          ],
          "name": "stdout"
        }
      ]
    },
    {
      "cell_type": "markdown",
      "metadata": {
        "id": "7g2VbJAssinV",
        "colab_type": "text"
      },
      "source": [
        "Here the pipeline creates a temporary DataFrame that contains the one hot encoded features. If you want to debug your pipeline, you can access intermediary stages at any time. For instance below we get the preprocessor, extract the stage for categorical features and get the categories it has learnt:"
      ]
    },
    {
      "cell_type": "code",
      "metadata": {
        "id": "_b0KAHEJsinW",
        "colab_type": "code",
        "outputId": "3400bfe1-8f9a-4533-fc64-9376c3d03cd9",
        "colab": {
          "base_uri": "https://localhost:8080/",
          "height": 502
        }
      },
      "source": [
        "ohe_categories = clf.named_steps[\"preprocessor\"].transformers_[1][1].named_steps['onehot'].get_feature_names()\n",
        "\n",
        "ohe_categories"
      ],
      "execution_count": 39,
      "outputs": [
        {
          "output_type": "execute_result",
          "data": {
            "text/plain": [
              "array(['x0_Bassin Industriel', 'x0_Bassin Résidentiel',\n",
              "       'x0_Bassin Urbain', 'x0_Bassin diversifié',\n",
              "       'x0_Bassins Agroalimentaire', 'x1_en croissance démographique',\n",
              "       'x1_en déclin démographique', 'x2_Com rurale < 2 000 m habts ',\n",
              "       'x2_Other',\n",
              "       'x3_1.Accroissement par excédent naturel et migratoire',\n",
              "       'x3_2.Accroissement par excédent naturel',\n",
              "       'x3_3.Accroissement par excédent migratoire',\n",
              "       'x3_4.Déclin par déficit naturel et migratoire',\n",
              "       'x3_5.Déclin par déficit naturel',\n",
              "       'x3_6.Déclin par déficit migratoire', 'x3_Grande Ville',\n",
              "       'x4_Com < 10 m habts en croissance démographique',\n",
              "       'x4_Com < 200 m habts en croissance démographique',\n",
              "       'x4_Com < 50 m habts en croissance démographique',\n",
              "       'x4_Com > 200 m habts en croissance démographique',\n",
              "       'x4_Com rurale < 2 000 m habts en croissance démographique',\n",
              "       'x4_Com rurale > 2 000 habts en croissance démographique',\n",
              "       'x4_Zone rurale en croissance démographique',\n",
              "       'x4_Zone rurale en déclin démographique',\n",
              "       'x5_Bassin Industriel en croissance démographique',\n",
              "       'x5_Bassin Résidentiel en croissance démographique',\n",
              "       'x5_Bassin Résidentiel en déclin démographique',\n",
              "       'x5_Bassin Urbain en croissance démographique',\n",
              "       'x5_Bassin diversifié en croissance démographique',\n",
              "       'x5_Bassins Agroalimentaire en croissance démographique',\n",
              "       'x6_Faible Synergie Médicale', 'x6_Other', 'x7_Fiscalité moyenne',\n",
              "       'x7_Other', 'x8_Faible dynamique', 'x8_Other',\n",
              "       'x9_Faible Dynamique Serv et Com', 'x9_Other', 'x10_0.0',\n",
              "       'x10_1.0', 'x10_2.0', 'x10_3.0', 'x10_4.0'], dtype=object)"
            ]
          },
          "metadata": {
            "tags": []
          },
          "execution_count": 39
        }
      ]
    },
    {
      "cell_type": "markdown",
      "metadata": {
        "id": "KsinTkWysina",
        "colab_type": "text"
      },
      "source": [
        "Now we can create a list with all those features so we can reuse it later:"
      ]
    },
    {
      "cell_type": "code",
      "metadata": {
        "id": "maTJ8WCrsinc",
        "colab_type": "code",
        "colab": {}
      },
      "source": [
        "all_features = numeric_features + te_features + list(ohe_categories)"
      ],
      "execution_count": 0,
      "outputs": []
    },
    {
      "cell_type": "code",
      "metadata": {
        "id": "OPL1NGXlsine",
        "colab_type": "code",
        "outputId": "d0190d10-f8df-4c40-96f7-81cba5551b68",
        "colab": {
          "base_uri": "https://localhost:8080/",
          "height": 33
        }
      },
      "source": [
        "len(all_features)"
      ],
      "execution_count": 41,
      "outputs": [
        {
          "output_type": "execute_result",
          "data": {
            "text/plain": [
              "127"
            ]
          },
          "metadata": {
            "tags": []
          },
          "execution_count": 41
        }
      ]
    },
    {
      "cell_type": "markdown",
      "metadata": {
        "id": "Z3pgs9Uqsing",
        "colab_type": "text"
      },
      "source": [
        "Great, so now we have a nice list of columns after processing. Let's visualise the data in a dataframe just for sanity check. For that we can also call methods directly on specificy stages:"
      ]
    },
    {
      "cell_type": "code",
      "metadata": {
        "id": "Qi3S5caJsing",
        "colab_type": "code",
        "colab": {
          "base_uri": "https://localhost:8080/",
          "height": 420
        },
        "outputId": "eac97500-9df8-43c4-a107-d70a4a94065a"
      },
      "source": [
        "pd.DataFrame(clf.named_steps[\"preprocessor\"].transform(X_train), \n",
        "             columns=all_features).head(100)"
      ],
      "execution_count": 42,
      "outputs": [
        {
          "output_type": "error",
          "ename": "ValueError",
          "evalue": "ignored",
          "traceback": [
            "\u001b[0;31m---------------------------------------------------------------------------\u001b[0m",
            "\u001b[0;31mValueError\u001b[0m                                Traceback (most recent call last)",
            "\u001b[0;32m/usr/local/lib/python3.6/dist-packages/pandas/core/internals/managers.py\u001b[0m in \u001b[0;36mcreate_block_manager_from_blocks\u001b[0;34m(blocks, axes)\u001b[0m\n\u001b[1;32m   1650\u001b[0m                 blocks = [make_block(values=blocks[0],\n\u001b[0;32m-> 1651\u001b[0;31m                                      placement=slice(0, len(axes[0])))]\n\u001b[0m\u001b[1;32m   1652\u001b[0m \u001b[0;34m\u001b[0m\u001b[0m\n",
            "\u001b[0;32m/usr/local/lib/python3.6/dist-packages/pandas/core/internals/blocks.py\u001b[0m in \u001b[0;36mmake_block\u001b[0;34m(values, placement, klass, ndim, dtype, fastpath)\u001b[0m\n\u001b[1;32m   3094\u001b[0m \u001b[0;34m\u001b[0m\u001b[0m\n\u001b[0;32m-> 3095\u001b[0;31m     \u001b[0;32mreturn\u001b[0m \u001b[0mklass\u001b[0m\u001b[0;34m(\u001b[0m\u001b[0mvalues\u001b[0m\u001b[0;34m,\u001b[0m \u001b[0mndim\u001b[0m\u001b[0;34m=\u001b[0m\u001b[0mndim\u001b[0m\u001b[0;34m,\u001b[0m \u001b[0mplacement\u001b[0m\u001b[0;34m=\u001b[0m\u001b[0mplacement\u001b[0m\u001b[0;34m)\u001b[0m\u001b[0;34m\u001b[0m\u001b[0;34m\u001b[0m\u001b[0m\n\u001b[0m\u001b[1;32m   3096\u001b[0m \u001b[0;34m\u001b[0m\u001b[0m\n",
            "\u001b[0;32m/usr/local/lib/python3.6/dist-packages/pandas/core/internals/blocks.py\u001b[0m in \u001b[0;36m__init__\u001b[0;34m(self, values, placement, ndim)\u001b[0m\n\u001b[1;32m     86\u001b[0m                 \u001b[0;34m'Wrong number of items passed {val}, placement implies '\u001b[0m\u001b[0;34m\u001b[0m\u001b[0;34m\u001b[0m\u001b[0m\n\u001b[0;32m---> 87\u001b[0;31m                 '{mgr}'.format(val=len(self.values), mgr=len(self.mgr_locs)))\n\u001b[0m\u001b[1;32m     88\u001b[0m \u001b[0;34m\u001b[0m\u001b[0m\n",
            "\u001b[0;31mValueError\u001b[0m: Wrong number of items passed 123, placement implies 127",
            "\nDuring handling of the above exception, another exception occurred:\n",
            "\u001b[0;31mValueError\u001b[0m                                Traceback (most recent call last)",
            "\u001b[0;32m<ipython-input-42-bfd9895de05f>\u001b[0m in \u001b[0;36m<module>\u001b[0;34m()\u001b[0m\n\u001b[1;32m      1\u001b[0m pd.DataFrame(clf.named_steps[\"preprocessor\"].transform(X_train), \n\u001b[0;32m----> 2\u001b[0;31m              columns=all_features).head(100)\n\u001b[0m",
            "\u001b[0;32m/usr/local/lib/python3.6/dist-packages/pandas/core/frame.py\u001b[0m in \u001b[0;36m__init__\u001b[0;34m(self, data, index, columns, dtype, copy)\u001b[0m\n\u001b[1;32m    422\u001b[0m             \u001b[0;32melse\u001b[0m\u001b[0;34m:\u001b[0m\u001b[0;34m\u001b[0m\u001b[0;34m\u001b[0m\u001b[0m\n\u001b[1;32m    423\u001b[0m                 mgr = init_ndarray(data, index, columns, dtype=dtype,\n\u001b[0;32m--> 424\u001b[0;31m                                    copy=copy)\n\u001b[0m\u001b[1;32m    425\u001b[0m \u001b[0;34m\u001b[0m\u001b[0m\n\u001b[1;32m    426\u001b[0m         \u001b[0;31m# For data is list-like, or Iterable (will consume into list)\u001b[0m\u001b[0;34m\u001b[0m\u001b[0;34m\u001b[0m\u001b[0;34m\u001b[0m\u001b[0m\n",
            "\u001b[0;32m/usr/local/lib/python3.6/dist-packages/pandas/core/internals/construction.py\u001b[0m in \u001b[0;36minit_ndarray\u001b[0;34m(values, index, columns, dtype, copy)\u001b[0m\n\u001b[1;32m    165\u001b[0m         \u001b[0mvalues\u001b[0m \u001b[0;34m=\u001b[0m \u001b[0mmaybe_infer_to_datetimelike\u001b[0m\u001b[0;34m(\u001b[0m\u001b[0mvalues\u001b[0m\u001b[0;34m)\u001b[0m\u001b[0;34m\u001b[0m\u001b[0;34m\u001b[0m\u001b[0m\n\u001b[1;32m    166\u001b[0m \u001b[0;34m\u001b[0m\u001b[0m\n\u001b[0;32m--> 167\u001b[0;31m     \u001b[0;32mreturn\u001b[0m \u001b[0mcreate_block_manager_from_blocks\u001b[0m\u001b[0;34m(\u001b[0m\u001b[0;34m[\u001b[0m\u001b[0mvalues\u001b[0m\u001b[0;34m]\u001b[0m\u001b[0;34m,\u001b[0m \u001b[0;34m[\u001b[0m\u001b[0mcolumns\u001b[0m\u001b[0;34m,\u001b[0m \u001b[0mindex\u001b[0m\u001b[0;34m]\u001b[0m\u001b[0;34m)\u001b[0m\u001b[0;34m\u001b[0m\u001b[0;34m\u001b[0m\u001b[0m\n\u001b[0m\u001b[1;32m    168\u001b[0m \u001b[0;34m\u001b[0m\u001b[0m\n\u001b[1;32m    169\u001b[0m \u001b[0;34m\u001b[0m\u001b[0m\n",
            "\u001b[0;32m/usr/local/lib/python3.6/dist-packages/pandas/core/internals/managers.py\u001b[0m in \u001b[0;36mcreate_block_manager_from_blocks\u001b[0;34m(blocks, axes)\u001b[0m\n\u001b[1;32m   1658\u001b[0m         \u001b[0mblocks\u001b[0m \u001b[0;34m=\u001b[0m \u001b[0;34m[\u001b[0m\u001b[0mgetattr\u001b[0m\u001b[0;34m(\u001b[0m\u001b[0mb\u001b[0m\u001b[0;34m,\u001b[0m \u001b[0;34m'values'\u001b[0m\u001b[0;34m,\u001b[0m \u001b[0mb\u001b[0m\u001b[0;34m)\u001b[0m \u001b[0;32mfor\u001b[0m \u001b[0mb\u001b[0m \u001b[0;32min\u001b[0m \u001b[0mblocks\u001b[0m\u001b[0;34m]\u001b[0m\u001b[0;34m\u001b[0m\u001b[0;34m\u001b[0m\u001b[0m\n\u001b[1;32m   1659\u001b[0m         \u001b[0mtot_items\u001b[0m \u001b[0;34m=\u001b[0m \u001b[0msum\u001b[0m\u001b[0;34m(\u001b[0m\u001b[0mb\u001b[0m\u001b[0;34m.\u001b[0m\u001b[0mshape\u001b[0m\u001b[0;34m[\u001b[0m\u001b[0;36m0\u001b[0m\u001b[0;34m]\u001b[0m \u001b[0;32mfor\u001b[0m \u001b[0mb\u001b[0m \u001b[0;32min\u001b[0m \u001b[0mblocks\u001b[0m\u001b[0;34m)\u001b[0m\u001b[0;34m\u001b[0m\u001b[0;34m\u001b[0m\u001b[0m\n\u001b[0;32m-> 1660\u001b[0;31m         \u001b[0mconstruction_error\u001b[0m\u001b[0;34m(\u001b[0m\u001b[0mtot_items\u001b[0m\u001b[0;34m,\u001b[0m \u001b[0mblocks\u001b[0m\u001b[0;34m[\u001b[0m\u001b[0;36m0\u001b[0m\u001b[0;34m]\u001b[0m\u001b[0;34m.\u001b[0m\u001b[0mshape\u001b[0m\u001b[0;34m[\u001b[0m\u001b[0;36m1\u001b[0m\u001b[0;34m:\u001b[0m\u001b[0;34m]\u001b[0m\u001b[0;34m,\u001b[0m \u001b[0maxes\u001b[0m\u001b[0;34m,\u001b[0m \u001b[0me\u001b[0m\u001b[0;34m)\u001b[0m\u001b[0;34m\u001b[0m\u001b[0;34m\u001b[0m\u001b[0m\n\u001b[0m\u001b[1;32m   1661\u001b[0m \u001b[0;34m\u001b[0m\u001b[0m\n\u001b[1;32m   1662\u001b[0m \u001b[0;34m\u001b[0m\u001b[0m\n",
            "\u001b[0;32m/usr/local/lib/python3.6/dist-packages/pandas/core/internals/managers.py\u001b[0m in \u001b[0;36mconstruction_error\u001b[0;34m(tot_items, block_shape, axes, e)\u001b[0m\n\u001b[1;32m   1689\u001b[0m         \u001b[0;32mraise\u001b[0m \u001b[0mValueError\u001b[0m\u001b[0;34m(\u001b[0m\u001b[0;34m\"Empty data passed with indices specified.\"\u001b[0m\u001b[0;34m)\u001b[0m\u001b[0;34m\u001b[0m\u001b[0;34m\u001b[0m\u001b[0m\n\u001b[1;32m   1690\u001b[0m     raise ValueError(\"Shape of passed values is {0}, indices imply {1}\".format(\n\u001b[0;32m-> 1691\u001b[0;31m         passed, implied))\n\u001b[0m\u001b[1;32m   1692\u001b[0m \u001b[0;34m\u001b[0m\u001b[0m\n\u001b[1;32m   1693\u001b[0m \u001b[0;34m\u001b[0m\u001b[0m\n",
            "\u001b[0;31mValueError\u001b[0m: Shape of passed values is (25673, 123), indices imply (25673, 127)"
          ]
        }
      ]
    },
    {
      "cell_type": "markdown",
      "metadata": {
        "id": "iulnW2xIsini",
        "colab_type": "text"
      },
      "source": [
        "Now that we have trained our first model, we can easily do the same with our three others. Having the preprocessing steps in a pipeline makes the code cleaner and easier to read: here all code is related to training the model only, not tweaking the data."
      ]
    },
    {
      "cell_type": "markdown",
      "metadata": {
        "id": "wB_TJljSsini",
        "colab_type": "text"
      },
      "source": [
        "### Train a Decision Tree"
      ]
    },
    {
      "cell_type": "markdown",
      "metadata": {
        "id": "3vFQY_fesinj",
        "colab_type": "text"
      },
      "source": [
        "Define the new model"
      ]
    },
    {
      "cell_type": "code",
      "metadata": {
        "id": "Graa6lFysinj",
        "colab_type": "code",
        "colab": {}
      },
      "source": [
        "from sklearn.tree import DecisionTreeClassifier\n",
        "\n",
        "# Decision Tree\n",
        "dt_model = Pipeline([(\"preprocessor\", preprocessor), \n",
        "                     (\"model\", DecisionTreeClassifier(class_weight=\"balanced\"))])"
      ],
      "execution_count": 0,
      "outputs": []
    },
    {
      "cell_type": "code",
      "metadata": {
        "id": "PpBzju05sinm",
        "colab_type": "code",
        "outputId": "38475083-076f-4d2b-ea03-1c9c01622c52",
        "colab": {
          "base_uri": "https://localhost:8080/",
          "height": 502
        }
      },
      "source": [
        "gs = GridSearchCV(dt_model, {\"model__max_depth\": [3, 5, 7], \n",
        "                             \"model__min_samples_split\": [2, 5]}, \n",
        "                  n_jobs=-1, cv=5, scoring=\"accuracy\")\n",
        "\n",
        "gs.fit(X_train, y_train)"
      ],
      "execution_count": 44,
      "outputs": [
        {
          "output_type": "execute_result",
          "data": {
            "text/plain": [
              "GridSearchCV(cv=5, error_score='raise-deprecating',\n",
              "             estimator=Pipeline(memory=None,\n",
              "                                steps=[('preprocessor',\n",
              "                                        ColumnTransformer(n_jobs=None,\n",
              "                                                          remainder='drop',\n",
              "                                                          sparse_threshold=0.3,\n",
              "                                                          transformer_weights=None,\n",
              "                                                          transformers=[('num',\n",
              "                                                                         Pipeline(memory=None,\n",
              "                                                                                  steps=[('imputer',\n",
              "                                                                                          SimpleImputer(add_indicator=False,\n",
              "                                                                                                        copy=True,\n",
              "                                                                                                        fill_value=None,\n",
              "                                                                                                        missing_values=nan,\n",
              "                                                                                                        strategy='mean...\n",
              "                                                               min_impurity_decrease=0.0,\n",
              "                                                               min_impurity_split=None,\n",
              "                                                               min_samples_leaf=1,\n",
              "                                                               min_samples_split=2,\n",
              "                                                               min_weight_fraction_leaf=0.0,\n",
              "                                                               presort=False,\n",
              "                                                               random_state=None,\n",
              "                                                               splitter='best'))],\n",
              "                                verbose=False),\n",
              "             iid='warn', n_jobs=-1,\n",
              "             param_grid={'model__max_depth': [3, 5, 7],\n",
              "                         'model__min_samples_split': [2, 5]},\n",
              "             pre_dispatch='2*n_jobs', refit=True, return_train_score=False,\n",
              "             scoring='accuracy', verbose=0)"
            ]
          },
          "metadata": {
            "tags": []
          },
          "execution_count": 44
        }
      ]
    },
    {
      "cell_type": "markdown",
      "metadata": {
        "id": "OpIdPEUksinv",
        "colab_type": "text"
      },
      "source": [
        "Let's see our best parameters and score"
      ]
    },
    {
      "cell_type": "code",
      "metadata": {
        "id": "5X9M_E7Qsinv",
        "colab_type": "code",
        "outputId": "01938da2-794e-4db5-d2d8-ec9a6101a60e",
        "colab": {
          "base_uri": "https://localhost:8080/",
          "height": 50
        }
      },
      "source": [
        "print(gs.best_params_)\n",
        "print(gs.best_score_)"
      ],
      "execution_count": 45,
      "outputs": [
        {
          "output_type": "stream",
          "text": [
            "{'model__max_depth': 3, 'model__min_samples_split': 2}\n",
            "0.8042690764616524\n"
          ],
          "name": "stdout"
        }
      ]
    },
    {
      "cell_type": "code",
      "metadata": {
        "id": "Ruke6RGasinw",
        "colab_type": "code",
        "outputId": "0278f11f-3cd4-4bfc-ebf2-3c35bfc9cd60",
        "colab": {
          "base_uri": "https://localhost:8080/",
          "height": 518
        }
      },
      "source": [
        "dt_model.set_params(**gs.best_params_)"
      ],
      "execution_count": 46,
      "outputs": [
        {
          "output_type": "execute_result",
          "data": {
            "text/plain": [
              "Pipeline(memory=None,\n",
              "         steps=[('preprocessor',\n",
              "                 ColumnTransformer(n_jobs=None, remainder='drop',\n",
              "                                   sparse_threshold=0.3,\n",
              "                                   transformer_weights=None,\n",
              "                                   transformers=[('num',\n",
              "                                                  Pipeline(memory=None,\n",
              "                                                           steps=[('imputer',\n",
              "                                                                   SimpleImputer(add_indicator=False,\n",
              "                                                                                 copy=True,\n",
              "                                                                                 fill_value=None,\n",
              "                                                                                 missing_values=nan,\n",
              "                                                                                 strategy='mean',\n",
              "                                                                                 verbose=0)),\n",
              "                                                                  ('scaler',\n",
              "                                                                   StandardScaler(copy=True,\n",
              "                                                                                  with_mean=T...\n",
              "                                                   'score_equipement_de_sante_bv'])],\n",
              "                                   verbose=False)),\n",
              "                ('model',\n",
              "                 DecisionTreeClassifier(class_weight='balanced',\n",
              "                                        criterion='gini', max_depth=3,\n",
              "                                        max_features=None, max_leaf_nodes=None,\n",
              "                                        min_impurity_decrease=0.0,\n",
              "                                        min_impurity_split=None,\n",
              "                                        min_samples_leaf=1, min_samples_split=2,\n",
              "                                        min_weight_fraction_leaf=0.0,\n",
              "                                        presort=False, random_state=None,\n",
              "                                        splitter='best'))],\n",
              "         verbose=False)"
            ]
          },
          "metadata": {
            "tags": []
          },
          "execution_count": 46
        }
      ]
    },
    {
      "cell_type": "code",
      "metadata": {
        "id": "LOAJjQFJsiny",
        "colab_type": "code",
        "colab": {}
      },
      "source": [
        "dt_model.fit(X_train, y_train)\n",
        "y_pred = dt_model.predict(X_test)"
      ],
      "execution_count": 0,
      "outputs": []
    },
    {
      "cell_type": "code",
      "metadata": {
        "id": "R6T7T2Xtsinz",
        "colab_type": "code",
        "outputId": "88d6aa00-e558-491e-fafa-bbf897b1c7de",
        "colab": {
          "base_uri": "https://localhost:8080/",
          "height": 33
        }
      },
      "source": [
        "accuracy_score(y_test, y_pred)"
      ],
      "execution_count": 48,
      "outputs": [
        {
          "output_type": "execute_result",
          "data": {
            "text/plain": [
              "0.8297891675754271"
            ]
          },
          "metadata": {
            "tags": []
          },
          "execution_count": 48
        }
      ]
    },
    {
      "cell_type": "code",
      "metadata": {
        "id": "cmlvGAEPsin1",
        "colab_type": "code",
        "outputId": "fd43e6fd-4d27-430f-c38d-afc97566580e",
        "colab": {
          "base_uri": "https://localhost:8080/",
          "height": 167
        }
      },
      "source": [
        "print(classification_report(y_test, y_pred))"
      ],
      "execution_count": 49,
      "outputs": [
        {
          "output_type": "stream",
          "text": [
            "              precision    recall  f1-score   support\n",
            "\n",
            "         0.0       0.94      0.86      0.90      9484\n",
            "         1.0       0.43      0.67      0.52      1520\n",
            "\n",
            "    accuracy                           0.83     11004\n",
            "   macro avg       0.68      0.76      0.71     11004\n",
            "weighted avg       0.87      0.83      0.84     11004\n",
            "\n"
          ],
          "name": "stdout"
        }
      ]
    },
    {
      "cell_type": "markdown",
      "metadata": {
        "id": "oVOSpJZYsin3",
        "colab_type": "text"
      },
      "source": [
        "### Train a Random Forest"
      ]
    },
    {
      "cell_type": "code",
      "metadata": {
        "id": "wejZftCxsin3",
        "colab_type": "code",
        "colab": {}
      },
      "source": [
        "from sklearn.ensemble import RandomForestClassifier\n",
        "\n",
        "# Random Forest\n",
        "rf_model = Pipeline([(\"preprocessor\", preprocessor), \n",
        "                     (\"model\", RandomForestClassifier(class_weight=\"balanced\", \n",
        "                                                      n_estimators=100, n_jobs=-1))])"
      ],
      "execution_count": 0,
      "outputs": []
    },
    {
      "cell_type": "code",
      "metadata": {
        "id": "DF5Xr6hfsin5",
        "colab_type": "code",
        "outputId": "fd3c62ad-505d-4511-99e3-28f1ab78e75e",
        "colab": {
          "base_uri": "https://localhost:8080/",
          "height": 518
        }
      },
      "source": [
        "gs = GridSearchCV(rf_model, {\"model__max_depth\": [10, 15], \n",
        "                             \"model__min_samples_split\": [5, 10]}, \n",
        "                  n_jobs=-1, cv=5, scoring=\"accuracy\")\n",
        "\n",
        "gs.fit(X_train, y_train)"
      ],
      "execution_count": 51,
      "outputs": [
        {
          "output_type": "execute_result",
          "data": {
            "text/plain": [
              "GridSearchCV(cv=5, error_score='raise-deprecating',\n",
              "             estimator=Pipeline(memory=None,\n",
              "                                steps=[('preprocessor',\n",
              "                                        ColumnTransformer(n_jobs=None,\n",
              "                                                          remainder='drop',\n",
              "                                                          sparse_threshold=0.3,\n",
              "                                                          transformer_weights=None,\n",
              "                                                          transformers=[('num',\n",
              "                                                                         Pipeline(memory=None,\n",
              "                                                                                  steps=[('imputer',\n",
              "                                                                                          SimpleImputer(add_indicator=False,\n",
              "                                                                                                        copy=True,\n",
              "                                                                                                        fill_value=None,\n",
              "                                                                                                        missing_values=nan,\n",
              "                                                                                                        strategy='mean...\n",
              "                                                               min_samples_leaf=1,\n",
              "                                                               min_samples_split=2,\n",
              "                                                               min_weight_fraction_leaf=0.0,\n",
              "                                                               n_estimators=100,\n",
              "                                                               n_jobs=-1,\n",
              "                                                               oob_score=False,\n",
              "                                                               random_state=None,\n",
              "                                                               verbose=0,\n",
              "                                                               warm_start=False))],\n",
              "                                verbose=False),\n",
              "             iid='warn', n_jobs=-1,\n",
              "             param_grid={'model__max_depth': [10, 15],\n",
              "                         'model__min_samples_split': [5, 10]},\n",
              "             pre_dispatch='2*n_jobs', refit=True, return_train_score=False,\n",
              "             scoring='accuracy', verbose=0)"
            ]
          },
          "metadata": {
            "tags": []
          },
          "execution_count": 51
        }
      ]
    },
    {
      "cell_type": "markdown",
      "metadata": {
        "id": "xMfXhKQusin6",
        "colab_type": "text"
      },
      "source": [
        "Let's see our best parameters and score"
      ]
    },
    {
      "cell_type": "code",
      "metadata": {
        "id": "dlBQc_Exsin7",
        "colab_type": "code",
        "outputId": "ddc93e77-2320-4553-b40a-6e82b987a376",
        "colab": {
          "base_uri": "https://localhost:8080/",
          "height": 50
        }
      },
      "source": [
        "print(gs.best_params_)\n",
        "print(gs.best_score_)"
      ],
      "execution_count": 52,
      "outputs": [
        {
          "output_type": "stream",
          "text": [
            "{'model__max_depth': 15, 'model__min_samples_split': 5}\n",
            "0.8898453628325478\n"
          ],
          "name": "stdout"
        }
      ]
    },
    {
      "cell_type": "code",
      "metadata": {
        "id": "Vd4WyUGzsin8",
        "colab_type": "code",
        "outputId": "17487b03-eaf5-4cc2-b837-45f722e3b3c3",
        "colab": {
          "base_uri": "https://localhost:8080/",
          "height": 502
        }
      },
      "source": [
        "rf_model.set_params(**gs.best_params_)"
      ],
      "execution_count": 53,
      "outputs": [
        {
          "output_type": "execute_result",
          "data": {
            "text/plain": [
              "Pipeline(memory=None,\n",
              "         steps=[('preprocessor',\n",
              "                 ColumnTransformer(n_jobs=None, remainder='drop',\n",
              "                                   sparse_threshold=0.3,\n",
              "                                   transformer_weights=None,\n",
              "                                   transformers=[('num',\n",
              "                                                  Pipeline(memory=None,\n",
              "                                                           steps=[('imputer',\n",
              "                                                                   SimpleImputer(add_indicator=False,\n",
              "                                                                                 copy=True,\n",
              "                                                                                 fill_value=None,\n",
              "                                                                                 missing_values=nan,\n",
              "                                                                                 strategy='mean',\n",
              "                                                                                 verbose=0)),\n",
              "                                                                  ('scaler',\n",
              "                                                                   StandardScaler(copy=True,\n",
              "                                                                                  with_mean=T...\n",
              "                 RandomForestClassifier(bootstrap=True, class_weight='balanced',\n",
              "                                        criterion='gini', max_depth=15,\n",
              "                                        max_features='auto',\n",
              "                                        max_leaf_nodes=None,\n",
              "                                        min_impurity_decrease=0.0,\n",
              "                                        min_impurity_split=None,\n",
              "                                        min_samples_leaf=1, min_samples_split=5,\n",
              "                                        min_weight_fraction_leaf=0.0,\n",
              "                                        n_estimators=100, n_jobs=-1,\n",
              "                                        oob_score=False, random_state=None,\n",
              "                                        verbose=0, warm_start=False))],\n",
              "         verbose=False)"
            ]
          },
          "metadata": {
            "tags": []
          },
          "execution_count": 53
        }
      ]
    },
    {
      "cell_type": "code",
      "metadata": {
        "id": "Nwx7yd_Tsin9",
        "colab_type": "code",
        "colab": {}
      },
      "source": [
        "rf_model.fit(X_train, y_train)\n",
        "y_pred = rf_model.predict(X_test)"
      ],
      "execution_count": 0,
      "outputs": []
    },
    {
      "cell_type": "code",
      "metadata": {
        "id": "vhzpe76xsin_",
        "colab_type": "code",
        "outputId": "efd504ca-14ef-472d-cc66-6122d24cca8f",
        "colab": {
          "base_uri": "https://localhost:8080/",
          "height": 33
        }
      },
      "source": [
        "accuracy_score(y_test, y_pred)"
      ],
      "execution_count": 55,
      "outputs": [
        {
          "output_type": "execute_result",
          "data": {
            "text/plain": [
              "0.8897673573246092"
            ]
          },
          "metadata": {
            "tags": []
          },
          "execution_count": 55
        }
      ]
    },
    {
      "cell_type": "code",
      "metadata": {
        "id": "ebHwt5H2sioC",
        "colab_type": "code",
        "colab": {
          "base_uri": "https://localhost:8080/",
          "height": 167
        },
        "outputId": "39bfe3ba-1b93-433b-f176-326bde3013a0"
      },
      "source": [
        "print(classification_report(y_test, y_pred))"
      ],
      "execution_count": 56,
      "outputs": [
        {
          "output_type": "stream",
          "text": [
            "              precision    recall  f1-score   support\n",
            "\n",
            "         0.0       0.93      0.94      0.94      9484\n",
            "         1.0       0.61      0.56      0.58      1520\n",
            "\n",
            "    accuracy                           0.89     11004\n",
            "   macro avg       0.77      0.75      0.76     11004\n",
            "weighted avg       0.89      0.89      0.89     11004\n",
            "\n"
          ],
          "name": "stdout"
        }
      ]
    },
    {
      "cell_type": "markdown",
      "metadata": {
        "id": "Uvv4kXZIsioE",
        "colab_type": "text"
      },
      "source": [
        "### Train an XGB model"
      ]
    },
    {
      "cell_type": "markdown",
      "metadata": {
        "id": "wHSxh4xvsioE",
        "colab_type": "text"
      },
      "source": [
        "Pipeline can work with any class compatible with scikit-learn, here we are using it with the XGBClassifier from xgboost for instance:"
      ]
    },
    {
      "cell_type": "code",
      "metadata": {
        "id": "hkHchLZnsioF",
        "colab_type": "code",
        "colab": {}
      },
      "source": [
        "from xgboost.sklearn import XGBClassifier\n",
        "\n",
        "# XGBoost\n",
        "xgb_model = Pipeline([(\"prepyrocessor\", preprocessor), \n",
        "                      # Add a scale_pos_weight to make it balanced\n",
        "                      (\"model\", XGBClassifier(scale_pos_weight=(1 - y.mean()), \n",
        "                                              n_jobs=-1))])"
      ],
      "execution_count": 0,
      "outputs": []
    },
    {
      "cell_type": "code",
      "metadata": {
        "id": "P5vl6eBqsioG",
        "colab_type": "code",
        "outputId": "40ab7973-b000-4e59-f706-3c216f8e9901",
        "colab": {
          "base_uri": "https://localhost:8080/",
          "height": 555
        }
      },
      "source": [
        "gs = GridSearchCV(xgb_model, {\"model__max_depth\": [5, 10],\n",
        "                              \"model__min_child_weight\": [5, 10],\n",
        "                              \"model__n_estimators\": [25]},\n",
        "                  n_jobs=-1, cv=5, scoring=\"accuracy\")\n",
        "\n",
        "gs.fit(X_train, y_train)"
      ],
      "execution_count": 58,
      "outputs": [
        {
          "output_type": "stream",
          "text": [
            "/usr/local/lib/python3.6/dist-packages/joblib/externals/loky/process_executor.py:706: UserWarning: A worker stopped while some jobs were given to the executor. This can be caused by a too short worker timeout or by a memory leak.\n",
            "  \"timeout or by a memory leak.\", UserWarning\n"
          ],
          "name": "stderr"
        },
        {
          "output_type": "execute_result",
          "data": {
            "text/plain": [
              "GridSearchCV(cv=5, error_score='raise-deprecating',\n",
              "             estimator=Pipeline(memory=None,\n",
              "                                steps=[('preprocessor',\n",
              "                                        ColumnTransformer(n_jobs=None,\n",
              "                                                          remainder='drop',\n",
              "                                                          sparse_threshold=0.3,\n",
              "                                                          transformer_weights=None,\n",
              "                                                          transformers=[('num',\n",
              "                                                                         Pipeline(memory=None,\n",
              "                                                                                  steps=[('imputer',\n",
              "                                                                                          SimpleImputer(add_indicator=False,\n",
              "                                                                                                        copy=True,\n",
              "                                                                                                        fill_value=None,\n",
              "                                                                                                        missing_values=nan,\n",
              "                                                                                                        strategy='mean...\n",
              "                                                      objective='binary:logistic',\n",
              "                                                      random_state=0,\n",
              "                                                      reg_alpha=0, reg_lambda=1,\n",
              "                                                      scale_pos_weight=0.8618480246475994,\n",
              "                                                      seed=None, silent=None,\n",
              "                                                      subsample=1,\n",
              "                                                      verbosity=1))],\n",
              "                                verbose=False),\n",
              "             iid='warn', n_jobs=-1,\n",
              "             param_grid={'model__max_depth': [5, 10],\n",
              "                         'model__min_child_weight': [5, 10],\n",
              "                         'model__n_estimators': [25]},\n",
              "             pre_dispatch='2*n_jobs', refit=True, return_train_score=False,\n",
              "             scoring='accuracy', verbose=0)"
            ]
          },
          "metadata": {
            "tags": []
          },
          "execution_count": 58
        }
      ]
    },
    {
      "cell_type": "markdown",
      "metadata": {
        "id": "8mxoBWjqsioH",
        "colab_type": "text"
      },
      "source": [
        "Let's see our best parameters and score."
      ]
    },
    {
      "cell_type": "code",
      "metadata": {
        "id": "BIAgvveQsioI",
        "colab_type": "code",
        "outputId": "1aaf5956-7cc7-42c6-f992-e3f877f04e41",
        "colab": {
          "base_uri": "https://localhost:8080/",
          "height": 502
        }
      },
      "source": [
        "print(gs.best_params_)\n",
        "print(gs.best_score_)\n",
        "xgb_model.set_params(**gs.best_params_)\n",
        "xgb_model.fit(X_train, y_train)"
      ],
      "execution_count": 59,
      "outputs": [
        {
          "output_type": "stream",
          "text": [
            "{'model__max_depth': 10, 'model__min_child_weight': 10, 'model__n_estimators': 25}\n",
            "0.8972461340708137\n"
          ],
          "name": "stdout"
        },
        {
          "output_type": "execute_result",
          "data": {
            "text/plain": [
              "Pipeline(memory=None,\n",
              "         steps=[('preprocessor',\n",
              "                 ColumnTransformer(n_jobs=None, remainder='drop',\n",
              "                                   sparse_threshold=0.3,\n",
              "                                   transformer_weights=None,\n",
              "                                   transformers=[('num',\n",
              "                                                  Pipeline(memory=None,\n",
              "                                                           steps=[('imputer',\n",
              "                                                                   SimpleImputer(add_indicator=False,\n",
              "                                                                                 copy=True,\n",
              "                                                                                 fill_value=None,\n",
              "                                                                                 missing_values=nan,\n",
              "                                                                                 strategy='mean',\n",
              "                                                                                 verbose=0)),\n",
              "                                                                  ('scaler',\n",
              "                                                                   StandardScaler(copy=True,\n",
              "                                                                                  with_mean=T...\n",
              "                               colsample_bylevel=1, colsample_bynode=1,\n",
              "                               colsample_bytree=1, gamma=0, learning_rate=0.1,\n",
              "                               max_delta_step=0, max_depth=10,\n",
              "                               min_child_weight=10, missing=None,\n",
              "                               n_estimators=25, n_jobs=-1, nthread=None,\n",
              "                               objective='binary:logistic', random_state=0,\n",
              "                               reg_alpha=0, reg_lambda=1,\n",
              "                               scale_pos_weight=0.8618480246475994, seed=None,\n",
              "                               silent=None, subsample=1, verbosity=1))],\n",
              "         verbose=False)"
            ]
          },
          "metadata": {
            "tags": []
          },
          "execution_count": 59
        }
      ]
    },
    {
      "cell_type": "markdown",
      "metadata": {
        "id": "UplDuCgRsioL",
        "colab_type": "text"
      },
      "source": [
        "Generate predictions"
      ]
    },
    {
      "cell_type": "code",
      "metadata": {
        "id": "Aeq8NTCgsioL",
        "colab_type": "code",
        "colab": {}
      },
      "source": [
        "y_pred = xgb_model.predict(X_test)"
      ],
      "execution_count": 0,
      "outputs": []
    },
    {
      "cell_type": "code",
      "metadata": {
        "id": "qFR72sw-sioN",
        "colab_type": "code",
        "outputId": "0262a928-b169-426a-dc31-9ec2fc40cfa6",
        "colab": {
          "base_uri": "https://localhost:8080/",
          "height": 33
        }
      },
      "source": [
        "accuracy_score(y_test, y_pred)"
      ],
      "execution_count": 61,
      "outputs": [
        {
          "output_type": "execute_result",
          "data": {
            "text/plain": [
              "0.900945110868775"
            ]
          },
          "metadata": {
            "tags": []
          },
          "execution_count": 61
        }
      ]
    },
    {
      "cell_type": "code",
      "metadata": {
        "id": "SQyklqZGsioO",
        "colab_type": "code",
        "outputId": "7f6bd58a-4df2-4d11-cfe0-39621f7ef1cd",
        "colab": {
          "base_uri": "https://localhost:8080/",
          "height": 167
        }
      },
      "source": [
        "print(classification_report(y_test, y_pred))"
      ],
      "execution_count": 62,
      "outputs": [
        {
          "output_type": "stream",
          "text": [
            "              precision    recall  f1-score   support\n",
            "\n",
            "         0.0       0.91      0.98      0.94      9484\n",
            "         1.0       0.74      0.43      0.55      1520\n",
            "\n",
            "    accuracy                           0.90     11004\n",
            "   macro avg       0.83      0.70      0.75     11004\n",
            "weighted avg       0.89      0.90      0.89     11004\n",
            "\n"
          ],
          "name": "stdout"
        }
      ]
    },
    {
      "cell_type": "code",
      "metadata": {
        "id": "dBIdyRl1x5iZ",
        "colab_type": "code",
        "colab": {}
      },
      "source": [
        "# LGBm\n",
        "lgb_model = Pipeline([(\"preprocessor\", preprocessor), \n",
        "                      # Add a scale_pos_weight to make it balanced\n",
        "                      (\"model\",  LGBMClassifier(n_estimators=40, max_depth=8, min_samples_split=.005, n_jobs=-1))])"
      ],
      "execution_count": 0,
      "outputs": []
    },
    {
      "cell_type": "code",
      "metadata": {
        "id": "HbLJIOACus98",
        "colab_type": "code",
        "colab": {
          "base_uri": "https://localhost:8080/",
          "height": 485
        },
        "outputId": "2548963d-dcbb-4ce8-97c4-60354a973ecf"
      },
      "source": [
        "lgb_model.fit(X_train, y_train)"
      ],
      "execution_count": 73,
      "outputs": [
        {
          "output_type": "execute_result",
          "data": {
            "text/plain": [
              "Pipeline(memory=None,\n",
              "         steps=[('preprocessor',\n",
              "                 ColumnTransformer(n_jobs=None, remainder='drop',\n",
              "                                   sparse_threshold=0.3,\n",
              "                                   transformer_weights=None,\n",
              "                                   transformers=[('num',\n",
              "                                                  Pipeline(memory=None,\n",
              "                                                           steps=[('imputer',\n",
              "                                                                   SimpleImputer(add_indicator=False,\n",
              "                                                                                 copy=True,\n",
              "                                                                                 fill_value=None,\n",
              "                                                                                 missing_values=nan,\n",
              "                                                                                 strategy='mean',\n",
              "                                                                                 verbose=0)),\n",
              "                                                                  ('scaler',\n",
              "                                                                   StandardScaler(copy=True,\n",
              "                                                                                  with_mean=T...\n",
              "                 LGBMClassifier(boosting_type='gbdt', class_weight=None,\n",
              "                                colsample_bytree=1.0, importance_type='split',\n",
              "                                learning_rate=0.1, max_depth=8,\n",
              "                                min_child_samples=20, min_child_weight=0.001,\n",
              "                                min_samples_split=0.005, min_split_gain=0.0,\n",
              "                                n_estimators=40, n_jobs=-1, num_leaves=31,\n",
              "                                objective=None, random_state=None,\n",
              "                                reg_alpha=0.0, reg_lambda=0.0, silent=True,\n",
              "                                subsample=1.0, subsample_for_bin=200000,\n",
              "                                subsample_freq=0))],\n",
              "         verbose=False)"
            ]
          },
          "metadata": {
            "tags": []
          },
          "execution_count": 73
        }
      ]
    },
    {
      "cell_type": "code",
      "metadata": {
        "id": "NWndnI8Cwh60",
        "colab_type": "code",
        "colab": {}
      },
      "source": [
        "y_pred = lgb_model.predict(X_test)"
      ],
      "execution_count": 0,
      "outputs": []
    },
    {
      "cell_type": "code",
      "metadata": {
        "id": "P38h1Ho5wxo4",
        "colab_type": "code",
        "colab": {
          "base_uri": "https://localhost:8080/",
          "height": 33
        },
        "outputId": "5425d5b8-2e6e-4971-937e-39134591b6f3"
      },
      "source": [
        "accuracy_score(y_test, y_pred)"
      ],
      "execution_count": 75,
      "outputs": [
        {
          "output_type": "execute_result",
          "data": {
            "text/plain": [
              "0.9005816066884769"
            ]
          },
          "metadata": {
            "tags": []
          },
          "execution_count": 75
        }
      ]
    },
    {
      "cell_type": "code",
      "metadata": {
        "id": "Z7OEMnr_wxra",
        "colab_type": "code",
        "colab": {}
      },
      "source": [
        "# catboost\n",
        "catb_model = Pipeline([(\"preprocessor\", preprocessor), \n",
        "                      # Add a scale_pos_weight to make it balanced\n",
        "                      (\"model\",  CatBoostClassifier(iterations =100, learning_rate = 0.03) )])\n"
      ],
      "execution_count": 0,
      "outputs": []
    },
    {
      "cell_type": "code",
      "metadata": {
        "id": "nFDQJ7qdwxt-",
        "colab_type": "code",
        "colab": {
          "base_uri": "https://localhost:8080/",
          "height": 1000
        },
        "outputId": "b0c0f215-e06b-47e5-ee46-40a687267375"
      },
      "source": [
        "catb_model.fit(X_train, y_train)"
      ],
      "execution_count": 79,
      "outputs": [
        {
          "output_type": "stream",
          "text": [
            "0:\tlearn: 0.6636183\ttotal: 72.2ms\tremaining: 7.14s\n",
            "1:\tlearn: 0.6354058\ttotal: 93.7ms\tremaining: 4.59s\n",
            "2:\tlearn: 0.6072342\ttotal: 118ms\tremaining: 3.82s\n",
            "3:\tlearn: 0.5806002\ttotal: 140ms\tremaining: 3.36s\n",
            "4:\tlearn: 0.5580426\ttotal: 161ms\tremaining: 3.06s\n",
            "5:\tlearn: 0.5389987\ttotal: 183ms\tremaining: 2.86s\n",
            "6:\tlearn: 0.5196062\ttotal: 204ms\tremaining: 2.71s\n",
            "7:\tlearn: 0.5024240\ttotal: 225ms\tremaining: 2.59s\n",
            "8:\tlearn: 0.4855466\ttotal: 246ms\tremaining: 2.49s\n",
            "9:\tlearn: 0.4702562\ttotal: 267ms\tremaining: 2.4s\n",
            "10:\tlearn: 0.4567752\ttotal: 293ms\tremaining: 2.37s\n",
            "11:\tlearn: 0.4434738\ttotal: 317ms\tremaining: 2.32s\n",
            "12:\tlearn: 0.4316584\ttotal: 340ms\tremaining: 2.28s\n",
            "13:\tlearn: 0.4218781\ttotal: 362ms\tremaining: 2.22s\n",
            "14:\tlearn: 0.4111974\ttotal: 383ms\tremaining: 2.17s\n",
            "15:\tlearn: 0.4023282\ttotal: 405ms\tremaining: 2.13s\n",
            "16:\tlearn: 0.3927706\ttotal: 428ms\tremaining: 2.09s\n",
            "17:\tlearn: 0.3857266\ttotal: 449ms\tremaining: 2.04s\n",
            "18:\tlearn: 0.3776366\ttotal: 470ms\tremaining: 2s\n",
            "19:\tlearn: 0.3712788\ttotal: 493ms\tremaining: 1.97s\n",
            "20:\tlearn: 0.3655135\ttotal: 518ms\tremaining: 1.95s\n",
            "21:\tlearn: 0.3608118\ttotal: 538ms\tremaining: 1.91s\n",
            "22:\tlearn: 0.3548070\ttotal: 563ms\tremaining: 1.88s\n",
            "23:\tlearn: 0.3490350\ttotal: 583ms\tremaining: 1.85s\n",
            "24:\tlearn: 0.3439701\ttotal: 604ms\tremaining: 1.81s\n",
            "25:\tlearn: 0.3398815\ttotal: 623ms\tremaining: 1.77s\n",
            "26:\tlearn: 0.3353285\ttotal: 644ms\tremaining: 1.74s\n",
            "27:\tlearn: 0.3311229\ttotal: 664ms\tremaining: 1.71s\n",
            "28:\tlearn: 0.3276733\ttotal: 684ms\tremaining: 1.67s\n",
            "29:\tlearn: 0.3239652\ttotal: 708ms\tremaining: 1.65s\n",
            "30:\tlearn: 0.3203305\ttotal: 730ms\tremaining: 1.62s\n",
            "31:\tlearn: 0.3178726\ttotal: 751ms\tremaining: 1.6s\n",
            "32:\tlearn: 0.3148875\ttotal: 772ms\tremaining: 1.57s\n",
            "33:\tlearn: 0.3119962\ttotal: 794ms\tremaining: 1.54s\n",
            "34:\tlearn: 0.3098017\ttotal: 815ms\tremaining: 1.51s\n",
            "35:\tlearn: 0.3071529\ttotal: 834ms\tremaining: 1.48s\n",
            "36:\tlearn: 0.3047709\ttotal: 855ms\tremaining: 1.46s\n",
            "37:\tlearn: 0.3029896\ttotal: 874ms\tremaining: 1.43s\n",
            "38:\tlearn: 0.3007618\ttotal: 895ms\tremaining: 1.4s\n",
            "39:\tlearn: 0.2986879\ttotal: 921ms\tremaining: 1.38s\n",
            "40:\tlearn: 0.2966573\ttotal: 940ms\tremaining: 1.35s\n",
            "41:\tlearn: 0.2953668\ttotal: 961ms\tremaining: 1.33s\n",
            "42:\tlearn: 0.2934408\ttotal: 982ms\tremaining: 1.3s\n",
            "43:\tlearn: 0.2915212\ttotal: 1s\tremaining: 1.28s\n",
            "44:\tlearn: 0.2902218\ttotal: 1.02s\tremaining: 1.25s\n",
            "45:\tlearn: 0.2889023\ttotal: 1.04s\tremaining: 1.22s\n",
            "46:\tlearn: 0.2874037\ttotal: 1.06s\tremaining: 1.2s\n",
            "47:\tlearn: 0.2863702\ttotal: 1.08s\tremaining: 1.17s\n",
            "48:\tlearn: 0.2855343\ttotal: 1.1s\tremaining: 1.15s\n",
            "49:\tlearn: 0.2843857\ttotal: 1.12s\tremaining: 1.12s\n",
            "50:\tlearn: 0.2833860\ttotal: 1.14s\tremaining: 1.1s\n",
            "51:\tlearn: 0.2822425\ttotal: 1.16s\tremaining: 1.07s\n",
            "52:\tlearn: 0.2815104\ttotal: 1.18s\tremaining: 1.05s\n",
            "53:\tlearn: 0.2806541\ttotal: 1.2s\tremaining: 1.02s\n",
            "54:\tlearn: 0.2801092\ttotal: 1.22s\tremaining: 1s\n",
            "55:\tlearn: 0.2791634\ttotal: 1.24s\tremaining: 978ms\n",
            "56:\tlearn: 0.2781984\ttotal: 1.27s\tremaining: 955ms\n",
            "57:\tlearn: 0.2774204\ttotal: 1.29s\tremaining: 932ms\n",
            "58:\tlearn: 0.2768811\ttotal: 1.31s\tremaining: 910ms\n",
            "59:\tlearn: 0.2764180\ttotal: 1.34s\tremaining: 893ms\n",
            "60:\tlearn: 0.2756605\ttotal: 1.36s\tremaining: 870ms\n",
            "61:\tlearn: 0.2751344\ttotal: 1.38s\tremaining: 848ms\n",
            "62:\tlearn: 0.2744422\ttotal: 1.4s\tremaining: 825ms\n",
            "63:\tlearn: 0.2736944\ttotal: 1.43s\tremaining: 803ms\n",
            "64:\tlearn: 0.2729596\ttotal: 1.45s\tremaining: 781ms\n",
            "65:\tlearn: 0.2723383\ttotal: 1.47s\tremaining: 759ms\n",
            "66:\tlearn: 0.2718369\ttotal: 1.5s\tremaining: 738ms\n",
            "67:\tlearn: 0.2714287\ttotal: 1.52s\tremaining: 718ms\n",
            "68:\tlearn: 0.2710759\ttotal: 1.55s\tremaining: 697ms\n",
            "69:\tlearn: 0.2706536\ttotal: 1.57s\tremaining: 674ms\n",
            "70:\tlearn: 0.2700377\ttotal: 1.6s\tremaining: 655ms\n",
            "71:\tlearn: 0.2697097\ttotal: 1.63s\tremaining: 634ms\n",
            "72:\tlearn: 0.2692229\ttotal: 1.66s\tremaining: 612ms\n",
            "73:\tlearn: 0.2685925\ttotal: 1.68s\tremaining: 590ms\n",
            "74:\tlearn: 0.2683392\ttotal: 1.7s\tremaining: 568ms\n",
            "75:\tlearn: 0.2680452\ttotal: 1.73s\tremaining: 545ms\n",
            "76:\tlearn: 0.2678484\ttotal: 1.75s\tremaining: 522ms\n",
            "77:\tlearn: 0.2673779\ttotal: 1.77s\tremaining: 500ms\n",
            "78:\tlearn: 0.2671386\ttotal: 1.79s\tremaining: 477ms\n",
            "79:\tlearn: 0.2665936\ttotal: 1.82s\tremaining: 455ms\n",
            "80:\tlearn: 0.2662130\ttotal: 1.84s\tremaining: 432ms\n",
            "81:\tlearn: 0.2656206\ttotal: 1.86s\tremaining: 409ms\n",
            "82:\tlearn: 0.2651360\ttotal: 1.89s\tremaining: 387ms\n",
            "83:\tlearn: 0.2648761\ttotal: 1.91s\tremaining: 364ms\n",
            "84:\tlearn: 0.2645070\ttotal: 1.93s\tremaining: 341ms\n",
            "85:\tlearn: 0.2642394\ttotal: 1.96s\tremaining: 318ms\n",
            "86:\tlearn: 0.2638974\ttotal: 1.98s\tremaining: 296ms\n",
            "87:\tlearn: 0.2636653\ttotal: 2.01s\tremaining: 274ms\n",
            "88:\tlearn: 0.2634283\ttotal: 2.03s\tremaining: 251ms\n",
            "89:\tlearn: 0.2632678\ttotal: 2.06s\tremaining: 228ms\n",
            "90:\tlearn: 0.2630688\ttotal: 2.08s\tremaining: 205ms\n",
            "91:\tlearn: 0.2629397\ttotal: 2.1s\tremaining: 183ms\n",
            "92:\tlearn: 0.2625696\ttotal: 2.13s\tremaining: 161ms\n",
            "93:\tlearn: 0.2623887\ttotal: 2.15s\tremaining: 138ms\n",
            "94:\tlearn: 0.2620772\ttotal: 2.18s\tremaining: 115ms\n",
            "95:\tlearn: 0.2617638\ttotal: 2.2s\tremaining: 91.9ms\n",
            "96:\tlearn: 0.2615621\ttotal: 2.23s\tremaining: 68.9ms\n",
            "97:\tlearn: 0.2613832\ttotal: 2.25s\tremaining: 45.9ms\n",
            "98:\tlearn: 0.2610736\ttotal: 2.27s\tremaining: 22.9ms\n",
            "99:\tlearn: 0.2608309\ttotal: 2.29s\tremaining: 0us\n"
          ],
          "name": "stdout"
        },
        {
          "output_type": "execute_result",
          "data": {
            "text/plain": [
              "Pipeline(memory=None,\n",
              "         steps=[('preprocessor',\n",
              "                 ColumnTransformer(n_jobs=None, remainder='drop',\n",
              "                                   sparse_threshold=0.3,\n",
              "                                   transformer_weights=None,\n",
              "                                   transformers=[('num',\n",
              "                                                  Pipeline(memory=None,\n",
              "                                                           steps=[('imputer',\n",
              "                                                                   SimpleImputer(add_indicator=False,\n",
              "                                                                                 copy=True,\n",
              "                                                                                 fill_value=None,\n",
              "                                                                                 missing_values=nan,\n",
              "                                                                                 strategy='mean',\n",
              "                                                                                 verbose=0)),\n",
              "                                                                  ('scaler',\n",
              "                                                                   StandardScaler(copy=True,\n",
              "                                                                                  with_mean=T...\n",
              "                                                  ['orientation_economique',\n",
              "                                                   'seg_croissance_pop',\n",
              "                                                   'urbanite_ruralite',\n",
              "                                                   'dynamique_demographique_bv',\n",
              "                                                   'seg_environnement_demographique_obsolete',\n",
              "                                                   'environnement_demographique',\n",
              "                                                   'syn_medical',\n",
              "                                                   'seg_cap_fiscale',\n",
              "                                                   'seg_dyn_entre', 'dyn_setc',\n",
              "                                                   'score_equipement_de_sante_bv'])],\n",
              "                                   verbose=False)),\n",
              "                ('model',\n",
              "                 <catboost.core.CatBoostClassifier object at 0x7f5c8da125f8>)],\n",
              "         verbose=False)"
            ]
          },
          "metadata": {
            "tags": []
          },
          "execution_count": 79
        }
      ]
    },
    {
      "cell_type": "code",
      "metadata": {
        "id": "v_yXbIXq4tnH",
        "colab_type": "code",
        "colab": {}
      },
      "source": [
        "y_pred = lgb_model.predict(X_test)"
      ],
      "execution_count": 0,
      "outputs": []
    },
    {
      "cell_type": "code",
      "metadata": {
        "id": "p5rwmgqW4z1d",
        "colab_type": "code",
        "colab": {
          "base_uri": "https://localhost:8080/",
          "height": 33
        },
        "outputId": "53dc2461-6d78-4466-ee99-21d1d027c91c"
      },
      "source": [
        "accuracy_score(y_test, y_pred)"
      ],
      "execution_count": 81,
      "outputs": [
        {
          "output_type": "execute_result",
          "data": {
            "text/plain": [
              "0.9005816066884769"
            ]
          },
          "metadata": {
            "tags": []
          },
          "execution_count": 81
        }
      ]
    },
    {
      "cell_type": "code",
      "metadata": {
        "id": "AlvpZlZw43yt",
        "colab_type": "code",
        "colab": {}
      },
      "source": [
        ""
      ],
      "execution_count": 0,
      "outputs": []
    }
  ]
}